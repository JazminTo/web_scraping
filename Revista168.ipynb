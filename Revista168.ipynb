{
 "cells": [
  {
   "cell_type": "code",
   "execution_count": null,
   "id": "1efbe1c3-cf93-4f15-bb1c-2dff53c27cfd",
   "metadata": {},
   "outputs": [],
   "source": [
    "import requests\n",
    "import bs4\n",
    "from bs4 import BeautifulSoup\n",
    "from urllib.parse import urljoin\n",
    "import pandas as pd"
   ]
  },
  {
   "cell_type": "code",
   "execution_count": null,
   "id": "28d635f6-3e37-48f1-ba4e-b6ae83cb0a5e",
   "metadata": {},
   "outputs": [],
   "source": [
    "url_inicial='http://www.revistas.unam.mx/index.php/peninsula/issue/archive'\n",
    "url_root= 'http://www.revistas.unam.mx/index.php/peninsula/issue/archive'\n",
    "r = requests.get(url_inicial)"
   ]
  },
  {
   "cell_type": "code",
   "execution_count": null,
   "id": "0105f1e6-dca8-487b-a60c-872efd0f72a9",
   "metadata": {},
   "outputs": [],
   "source": [
    "soup = BeautifulSoup(r.text, 'html.parser')"
   ]
  },
  {
   "cell_type": "code",
   "execution_count": null,
   "id": "ab659e51-2cf5-412e-8023-014551611c0b",
   "metadata": {},
   "outputs": [],
   "source": [
    "box = soup.find('div', id='issues')\n",
    "volumen=box.findAll('h4')\n",
    "vol = [x.find('a').get('href')for x in volumen]\n",
    "#vol=[urljoin(url_root,i) for i in vol]\n",
    "vol"
   ]
  },
  {
   "cell_type": "code",
   "execution_count": null,
   "id": "db5502ed-633b-4587-9246-67cd83d9894f",
   "metadata": {},
   "outputs": [],
   "source": [
    "vol2 =[]\n",
    "for i in vol: \n",
    "    url_inicial1=i \n",
    "    r1 = requests.get(url_inicial1)\n",
    "    soup1 = BeautifulSoup(r1.text, 'html.parser')\n",
    "    box1 = soup1.findAll('div', id='issueCoverImage') \n",
    "    #volumen1=box1.findAll('div', class_='title')\n",
    "    vol1 = [x.find('a').get('href')for x in box1]\n",
    "    vol2+=vol1"
   ]
  },
  {
   "cell_type": "code",
   "execution_count": null,
   "id": "cc6a0a3e-9185-4993-88f1-f9b729ea3ebc",
   "metadata": {},
   "outputs": [],
   "source": [
    "vol2"
   ]
  },
  {
   "cell_type": "code",
   "execution_count": null,
   "id": "e550d51c-fc9f-48bb-8a30-62116b24d954",
   "metadata": {},
   "outputs": [],
   "source": [
    "vol3 =[]\n",
    "for b in vol2: \n",
    "    url_inicial2=b \n",
    "    r2 = requests.get(url_inicial2)\n",
    "    soup2 = BeautifulSoup(r2.text, 'html.parser')\n",
    "    box2 = soup2.find('div', id='content') \n",
    "    volumen2=box2.findAll('tr', valign='top')\n",
    "    vol2= [o.find('a').get('href')for o in volumen2]\n",
    "    #vol1=[urljoin(url_root,p) for p in vol1]\n",
    "    vol3+=vol2"
   ]
  },
  {
   "cell_type": "code",
   "execution_count": null,
   "id": "d7049f26-cea5-4b68-9368-e38fa8b69186",
   "metadata": {},
   "outputs": [],
   "source": [
    "vol3"
   ]
  },
  {
   "cell_type": "code",
   "execution_count": null,
   "id": "5b800b99-3718-4b1c-a508-aa47ee296c83",
   "metadata": {},
   "outputs": [],
   "source": [
    "def get_url_items(sopa, url): \n",
    "    box2 = soup2.find('div', id='content') \n",
    "    volumen2=box2.findAll('tr', valign='top')\n",
    "    vol2= [o.find('a').get('href')for o in volumen2]\n",
    "    return vol3"
   ]
  },
  {
   "cell_type": "code",
   "execution_count": null,
   "id": "0378205b-58b8-4d52-8594-fbada1158322",
   "metadata": {},
   "outputs": [],
   "source": [
    "links_items=[]\n",
    "i=0\n",
    "while i<1:\n",
    "    i+=1\n",
    "    print(f'Estoy en la pagina {url_inicial}')\n",
    "    r_pag=requests.get(url_inicial)\n",
    "    s_p=BeautifulSoup(r_pag.text,'html.parser')\n",
    "    links=get_url_items(s_p, url_inicial)\n",
    "    links_items.append(links) \n",
    "    next_a=s_p.select('li.next > a')\n",
    "    if not next_a or not next_a[0].get('href'):\n",
    "        break\n",
    "    url_inicial = urljoin(url_inicial, next_a[0].get('href'))"
   ]
  },
  {
   "cell_type": "code",
   "execution_count": null,
   "id": "e08b1007-9f1d-4934-9250-7c9397232dda",
   "metadata": {},
   "outputs": [],
   "source": [
    "list_scraper=[]\n",
    "for i in links_items:\n",
    "    for j in i:\n",
    "        list_scraper.append(j)\n",
    "len(list_scraper)"
   ]
  },
  {
   "cell_type": "code",
   "execution_count": null,
   "id": "7a3eb446-05fe-4e93-abfe-1968c96f68fe",
   "metadata": {},
   "outputs": [],
   "source": [
    "uno=list_scraper[0]\n",
    "r_item=requests.get(uno)\n",
    "s_item=BeautifulSoup(r_item.text, 'html.parser')"
   ]
  },
  {
   "cell_type": "code",
   "execution_count": null,
   "id": "c6970f7b-ebcd-4fd3-959b-e5e4f498531a",
   "metadata": {},
   "outputs": [],
   "source": [
    "def scraper_book(url):\n",
    "    content_book={}\n",
    "    r=requests.get(url)\n",
    "    tr='Península'\n",
    "    a='V. Ciencias Sociales'\n",
    "    te='Procesos Sociales y Culturales'\n",
    "    s_item=BeautifulSoup(r.text,'html.parser')\n",
    "    tituloR=tr\n",
    "    if tituloR:\n",
    "        content_book['Titulo Revista']=tituloR\n",
    "    else :\n",
    "        content_book['Titulo Revista']=None\n",
    "    area=a\n",
    "    if area:\n",
    "        content_book['Area']=area\n",
    "    else :\n",
    "        content_book['Area']=None\n",
    "    tematica=te\n",
    "    if tematica:\n",
    "        content_book['Tematica']=tematica\n",
    "    else :\n",
    "        content_book['Tematica']=None\n",
    "    #titulo del libro\n",
    "    try:\n",
    "        titulo=s_item.find('h3').get_text(strip=True)\n",
    "        content_book['Titulo Articulo']=titulo\n",
    "    except AttributeError:\n",
    "        content_book['Titulo Articulo']=None\n",
    "    try:\n",
    "        des=s_item.find('div', id='articleAbstract').get_text(strip=True)\n",
    "        content_book['Resumen']=des.replace(\"Resumen\",\"\")\n",
    "    except AttributeError:\n",
    "        content_book['Resumen']=None\n",
    "    try:\n",
    "        de=s_item.find('div', class_='panel-boody').get_text(strip=True)\n",
    "        content_book['Abstract']=de#.replace(\"Abstract\",\"\")\n",
    "    except AttributeError:\n",
    "        content_book['Abstract']=None\n",
    "    try:\n",
    "        urlA=url\n",
    "        content_book['Link Articulo']=urlA\n",
    "    except AttributeError:\n",
    "        content_book['Link Articulo']=None\n",
    "        #obtener link PDF\n",
    "    try:\n",
    "        ancla_link=s_item.find('div', id='articleFullText').find('a').get('href')\n",
    "        content_book['Link PDF']=urljoin(url_root,ancla_link)\n",
    "    except AttributeError:\n",
    "        content_book['Link PDF']=None\n",
    "    return content_book"
   ]
  },
  {
   "cell_type": "code",
   "execution_count": null,
   "id": "2f1edb05-cd0d-4827-be66-f8031f51f6f7",
   "metadata": {},
   "outputs": [],
   "source": [
    "list_scraper=list_scraper[0:229]\n",
    "datos_book=[]\n",
    "for idx, i in enumerate(list_scraper):\n",
    "    print(f'estas escrapeando la pag {idx}')\n",
    "    datos_book.append(scraper_book(i))"
   ]
  },
  {
   "cell_type": "code",
   "execution_count": null,
   "id": "ff248a5d-8e99-4294-941d-4a17ca1983c2",
   "metadata": {},
   "outputs": [],
   "source": [
    "df_catalogo=pd.DataFrame(datos_book)\n",
    "df_catalogo"
   ]
  },
  {
   "cell_type": "code",
   "execution_count": null,
   "id": "8049fe47-2a79-4c65-8c18-4428675d1109",
   "metadata": {},
   "outputs": [],
   "source": [
    "df=df_catalogo[~ df_catalogo[\"Titulo Articulo\"].isin([\"Presentación\",\"Editorial\",\"Autores\",\"Introducción\",\"Corrigenda\",\"Comentario\",\"Revista completa\",\"Preliminares\",\"Portada e índice\",\"Enlaces refback\",\"Mañana o pasado\",\"Pura imagen\",\"Número completo\", None,\"10 años\",\"Presentación. Diversidad religiosa en Yucatán.\"])]\n",
    "df"
   ]
  },
  {
   "cell_type": "code",
   "execution_count": null,
   "id": "fa099d2e-d68c-4690-bbe8-f86d30c21ce2",
   "metadata": {},
   "outputs": [],
   "source": [
    "df.to_csv('Revista168.csv', index=False)"
   ]
  },
  {
   "cell_type": "code",
   "execution_count": null,
   "id": "8b63ce93-b1fe-49e1-bfa8-a7817f1a2be2",
   "metadata": {},
   "outputs": [],
   "source": []
  }
 ],
 "metadata": {
  "kernelspec": {
   "display_name": "Python 3 (ipykernel)",
   "language": "python",
   "name": "python3"
  },
  "language_info": {
   "codemirror_mode": {
    "name": "ipython",
    "version": 3
   },
   "file_extension": ".py",
   "mimetype": "text/x-python",
   "name": "python",
   "nbconvert_exporter": "python",
   "pygments_lexer": "ipython3",
   "version": "3.10.4"
  }
 },
 "nbformat": 4,
 "nbformat_minor": 5
}
