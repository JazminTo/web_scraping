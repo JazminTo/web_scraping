{
 "cells": [
  {
   "cell_type": "code",
   "execution_count": null,
   "id": "cf9ab7fe-a843-4665-9f1c-563276c02169",
   "metadata": {},
   "outputs": [],
   "source": [
    "#importar librerias\n",
    "#peticion al servidor\n",
    "import requests\n",
    "import bs4\n",
    "from bs4 import BeautifulSoup\n",
    "from urllib.parse import urljoin\n",
    "import pandas as pd"
   ]
  },
  {
   "cell_type": "code",
   "execution_count": null,
   "id": "a032054b-e382-47e2-9925-60823f0a4d3a",
   "metadata": {},
   "outputs": [],
   "source": [
    "url_inicial='http://espacialidades.cua.uam.mx/ojs/index.php/espacialidades/issue/archive?issuesPage=3#issues'\n",
    "url_root= 'http://espacialidades.cua.uam.mx/ojs/index.php/espacialidades/issue/archive?issuesPage=3#issues'\n",
    "r = requests.get(url_inicial)"
   ]
  },
  {
   "cell_type": "code",
   "execution_count": null,
   "id": "6424ba07-176f-41e7-a561-0181884eaa64",
   "metadata": {},
   "outputs": [],
   "source": [
    "soup = BeautifulSoup(r.text, 'html.parser')"
   ]
  },
  {
   "cell_type": "code",
   "execution_count": null,
   "id": "191f7e8f-b162-4f3f-892f-7a528b60c047",
   "metadata": {},
   "outputs": [],
   "source": [
    "#Se realiza la busquea de la primeras etiquetas\n",
    "#para obtener lo href de cada uno de lo volumenes o archivos de la revista.\n",
    "box = soup.find('div', class_='issues media-list')\n",
    "volumen=box.findAll('h2', class_='media-heading')\n",
    "vol = [x.find('a').get('href')for x in volumen]\n",
    "#vol=[urljoin(url_root,i) for i in vol]\n",
    "vol"
   ]
  },
  {
   "cell_type": "code",
   "execution_count": null,
   "id": "4d2b89cf-c7f2-4ccd-869a-3de21ee88128",
   "metadata": {},
   "outputs": [],
   "source": [
    "#Se realiza un lista en la que la variable vol contiene los principales href\n",
    "#con estos href obtenidos, se implemeta un ciclo de esto para con ello obtener\n",
    "#los siguentes href de los arcticulos que se encuentran en cada uno de los volumenes o archivos\n",
    "#para esto se realiza la misma busqueda que al principio.\n",
    "vol2 =[]\n",
    "for i in vol: \n",
    "    url_inicial1=i \n",
    "    r1 = requests.get(url_inicial1)\n",
    "    soup1 = BeautifulSoup(r1.text, 'html.parser')\n",
    "    box1 = soup1.find('div', class_='sections')\n",
    "    volumen1=soup1.findAll('h3',class_='media-heading')\n",
    "    vol1 = [x.find('a').get('href')for x in volumen1]\n",
    "    vol1=[urljoin(url_root,i) for i in vol1]\n",
    "    vol2+=vol1"
   ]
  },
  {
   "cell_type": "code",
   "execution_count": null,
   "id": "815b13ab-5518-46d4-92e2-80504c577481",
   "metadata": {},
   "outputs": [],
   "source": [
    "vol2"
   ]
  },
  {
   "cell_type": "code",
   "execution_count": null,
   "id": "c75ad9e8-970c-4b00-a945-ed3ca8321d26",
   "metadata": {},
   "outputs": [],
   "source": [
    "#En esta parte la funcion es de obtener links\n",
    "def get_url_items(sopa, url): \n",
    "    box1 = soup1.find('div', class_='sections')\n",
    "    volumen1=soup1.findAll('h3',class_='media-heading')\n",
    "    vol1 = [x.find('a').get('href')for x in volumen1]\n",
    "    return vol2"
   ]
  },
  {
   "cell_type": "code",
   "execution_count": null,
   "id": "6e1e0076-ec18-4373-82ce-d15d36f95fb9",
   "metadata": {},
   "outputs": [],
   "source": [
    "#Ahora se va acumulando cada uno de lo links e ir iterando en cada una\n",
    "#de las páginas, para traer cada unos de los links que se van a ir scrapeando.\n",
    "links_items=[]\n",
    "i=0\n",
    "while i<1:\n",
    "    i+=1\n",
    "    print(f'Estoy en la pagina {url_inicial}')\n",
    "    r_pag=requests.get(url_inicial)\n",
    "    s_p=BeautifulSoup(r_pag.text,'html.parser')\n",
    "    links=get_url_items(s_p, url_inicial)\n",
    "    links_items.append(links) \n",
    "    next_a=s_p.select('li.next > a')\n",
    "    if not next_a or not next_a[0].get('href'):\n",
    "        break\n",
    "    url_inicial = urljoin(url_inicial, next_a[0].get('href'))"
   ]
  },
  {
   "cell_type": "code",
   "execution_count": null,
   "id": "3be188a7-7d52-4f65-a2b6-b274b4b932b4",
   "metadata": {},
   "outputs": [],
   "source": [
    "#Se hace un listado de los links de lo articulos que se obtuvieron.\n",
    "list_scraper=[]\n",
    "for i in links_items:\n",
    "    for j in i:\n",
    "        list_scraper.append(j)\n",
    "len(list_scraper)"
   ]
  },
  {
   "cell_type": "code",
   "execution_count": null,
   "id": "c04327cc-a2b7-47e7-9db4-78e0126a3518",
   "metadata": {},
   "outputs": [],
   "source": [
    "#Se estaran tomado uno a uno los links para Scrapearlos.\n",
    "uno=list_scraper[0]\n",
    "r_item=requests.get(uno)\n",
    "s_item=BeautifulSoup(r_item.text, 'html.parser')"
   ]
  },
  {
   "cell_type": "code",
   "execution_count": null,
   "id": "b6ad9b23-66e6-4940-ba4f-21d91b7c4c2e",
   "metadata": {},
   "outputs": [],
   "source": [
    "#Mediante esta función resivi cada uno de los links, va ir aplicando caca uno de \n",
    "#los metodos, que nos van a obtener lo que estamos requiriendo.\n",
    "def scraper_book(url):\n",
    "    content_book={}# diccionario que no va acumulando la imformacion que vamos poteniddo para el tada frame\n",
    "    r=requests.get(url)\n",
    "    tr='Espacialidades. Revista de temas contemporáneos sobre lugares, política y cultura'\n",
    "    a='V. Ciencias Sociales'\n",
    "    te='Relación entre el espacio y la vida social'\n",
    "    s_item=BeautifulSoup(r.text,'html.parser')\n",
    "    tituloR=tr\n",
    "    if tituloR:\n",
    "        content_book['Titulo Revista']=tituloR\n",
    "    else :\n",
    "        content_book['Titulo Revista']=None\n",
    "    area=a\n",
    "    if area:\n",
    "        content_book['Area']=area\n",
    "    else :\n",
    "        content_book['Area']=None\n",
    "    tematica=te\n",
    "    if tematica:\n",
    "        content_book['Tematica']=tematica\n",
    "    else :\n",
    "        content_book['Tematica']=None\n",
    "    #titulo del libro\n",
    "    try:\n",
    "        titulo=s_item.find('h1',class_='page-header').get_text(strip=True)\n",
    "        content_book['Titulo Articulo']=titulo\n",
    "    except AttributeError:\n",
    "        content_book['Titulo Articulo']=None\n",
    "     #obtencion de Resumen\n",
    "    try:\n",
    "        des=s_item.find('div', class_='article-abstract').get_text(strip=True)\n",
    "        content_book['Resumen']=des\n",
    "    except AttributeError:\n",
    "        content_book['Resumen']=None\n",
    "    #obtencion de Abstract\n",
    "    try:\n",
    "        de=s_item.find('div', class_='panel-boody').get_text(strip=True)\n",
    "        content_book['Abstract']=de#.replace(\"Abstract\",\"\")\n",
    "    except AttributeError:\n",
    "        content_book['Abstract']=None\n",
    "    #obtener link Articulos con la url, donde se guarda lo href\n",
    "    #donde se encuetran la informacion de los articulos.\n",
    "    try:\n",
    "        urlA=url\n",
    "        content_book['Link Articulo']=urlA\n",
    "    except AttributeError:\n",
    "        content_book['Link Articulo']=None\n",
    "    #obtener link PDF\n",
    "    try:\n",
    "        ancla_link=s_item.find('div', class_='download').find('a').get('href')\n",
    "        content_book['Link PDF']=urljoin(url_root,ancla_link)\n",
    "    except AttributeError:\n",
    "        content_book['Link PDF']=None\n",
    "    return content_book"
   ]
  },
  {
   "cell_type": "code",
   "execution_count": null,
   "id": "5f528f56-c093-409f-9829-e8f3406ad28b",
   "metadata": {},
   "outputs": [],
   "source": [
    "#El ciclo hace un scrapeo de la cada uno de los articulos.\n",
    "list_scraper=list_scraper[0:10]\n",
    "datos_book=[]\n",
    "for idx, i in enumerate(list_scraper):\n",
    "    print(f'estas escrapeando la pag {idx}')\n",
    "    datos_book.append(scraper_book(i))"
   ]
  },
  {
   "cell_type": "code",
   "execution_count": null,
   "id": "246cd00a-e648-4b7b-b2b8-d9d19b39a0eb",
   "metadata": {},
   "outputs": [],
   "source": [
    "#En listado de datos_book que se obtuvo, se guarada en una variable\n",
    "#y dicha variable que conteien la imformacion se convierte en un DataFrame.\n",
    "df_catalogo=pd.DataFrame(datos_book)\n",
    "df_catalogo"
   ]
  },
  {
   "cell_type": "code",
   "execution_count": null,
   "id": "1121bbf0-fda8-4f3e-8d39-afa0b00afadd",
   "metadata": {},
   "outputs": [],
   "source": [
    "#La imformacion conseguda se pasa a un CSV.\n",
    "df_catalogo.to_csv('Revista200.2.csv', index=False)"
   ]
  },
  {
   "cell_type": "markdown",
   "id": "9153ad2e-000a-43af-84c6-2c4108f49bef",
   "metadata": {},
   "source": [
    "Final Código"
   ]
  }
 ],
 "metadata": {
  "kernelspec": {
   "display_name": "Python 3 (ipykernel)",
   "language": "python",
   "name": "python3"
  },
  "language_info": {
   "codemirror_mode": {
    "name": "ipython",
    "version": 3
   },
   "file_extension": ".py",
   "mimetype": "text/x-python",
   "name": "python",
   "nbconvert_exporter": "python",
   "pygments_lexer": "ipython3",
   "version": "3.10.4"
  }
 },
 "nbformat": 4,
 "nbformat_minor": 5
}
