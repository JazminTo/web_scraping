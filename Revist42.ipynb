{
 "cells": [
  {
   "cell_type": "code",
   "execution_count": null,
   "id": "2dc36165-54ab-49c5-817d-54f7f07da2f6",
   "metadata": {},
   "outputs": [],
   "source": [
    "import requests\n",
    "import bs4\n",
    "from bs4 import BeautifulSoup\n",
    "from urllib.parse import urljoin\n",
    "import pandas as pd"
   ]
  },
  {
   "cell_type": "code",
   "execution_count": null,
   "id": "945d1363-61b5-4df0-8c6b-bcffb43b83be",
   "metadata": {},
   "outputs": [],
   "source": [
    "url_inicial= 'http://www.investigacionesgeograficas.unam.mx/index.php/rig/issue/archive'\n",
    "url_root='http://www.investigacionesgeograficas.unam.mx/index.php/rig/issue/archive'\n",
    "r=requests.get(url_inicial)"
   ]
  },
  {
   "cell_type": "code",
   "execution_count": null,
   "id": "8ccad436-64ff-48c7-bfe6-639441f25cc6",
   "metadata": {},
   "outputs": [],
   "source": [
    "soup = BeautifulSoup(r.text, 'html.parser')\n",
    "box = soup.find('div', class_='issues media-list')\n",
    "a = box.findAll('div', class_='media-left')\n",
    "vol = [x.find('a').get('href')for x in a]\n",
    "vol"
   ]
  },
  {
   "cell_type": "code",
   "execution_count": null,
   "id": "829e6928-ed5c-4b60-9c65-53d904034448",
   "metadata": {},
   "outputs": [],
   "source": [
    "def get_url_items(sopa, url): \n",
    "    box = sopa.find('div', class_='issues media-list')\n",
    "    a = box.findAll('div', class_='media-left')\n",
    "    vol = [x.find('a').get('href')for x in a]\n",
    "    return vol"
   ]
  },
  {
   "cell_type": "code",
   "execution_count": null,
   "id": "9717ad8b-f6bb-44b8-b417-0641475c4a65",
   "metadata": {},
   "outputs": [],
   "source": [
    "links_items=[]\n",
    "i=0\n",
    "while i<4:\n",
    "    i+=1\n",
    "    print(f'Estoy en la pagina {url_inicial}')\n",
    "    r_pag=requests.get(url_inicial)\n",
    "    s_p=BeautifulSoup(r_pag.text,'html.parser')\n",
    "    links=get_url_items(s_p, url_inicial)\n",
    "    links_items.append(links) \n",
    "    next_a=s_p.select('li.next > a')\n",
    "    if not next_a or not next_a[0].get('href'):\n",
    "        break\n",
    "    url_inicial = urljoin(url_inicial, next_a[0].get('href'))"
   ]
  },
  {
   "cell_type": "code",
   "execution_count": null,
   "id": "84896a89-55c4-450b-94e6-99f452c670a9",
   "metadata": {},
   "outputs": [],
   "source": [
    "   list_scraper=[]\n",
    "for i in links_items:\n",
    "    for j in i:\n",
    "        list_scraper.append(j)\n",
    "len(list_scraper)"
   ]
  },
  {
   "cell_type": "code",
   "execution_count": null,
   "id": "5327174c-b7f9-4421-8852-388ed1bd3b0c",
   "metadata": {},
   "outputs": [],
   "source": [
    "def scraper_book(url):\n",
    "    content_book={}\n",
    "    r=requests.get(url)\n",
    "    tr='Investigaciones Geográficas'\n",
    "    a='I. Físico Matemáticas y Ciencias de la Tierra'\n",
    "    te='Ciencias Sociales, Geografía, Análisis del Territorio'\n",
    "    ul='http://www.investigacionesgeograficas.unam.mx'\n",
    "    s_item=BeautifulSoup(r.text,'html.parser')\n",
    "    tituloR=tr\n",
    "    if tituloR:\n",
    "        content_book['Titulo Revista']=tituloR\n",
    "    else :\n",
    "        content_book['Titulo Revista']=None\n",
    "    area=a\n",
    "    if area:\n",
    "        content_book['Area']=area\n",
    "    else :\n",
    "        content_book['Area']=None\n",
    "    tematica=te\n",
    "    if tematica:\n",
    "        content_book['Tematica']=tematica\n",
    "    else :\n",
    "        content_book['Tematica']=None\n",
    "    #titulo del libro\n",
    "    titulo=s_item.find('h3', class_='media-heading').get_text(strip=True)\n",
    "    if titulo:\n",
    "        content_book['Titulo Articulo']=titulo\n",
    "    else :\n",
    "        content_book['Titulo Articulo']=None\n",
    "    try:\n",
    "        des=s_item.find('div', class_='panel-body').get_text(strip=True)\n",
    "        content_book['Resumen']=des\n",
    "    except AttributeError:\n",
    "        content_book['Resumen']=None\n",
    "    urlI=ul\n",
    "    if urlI:\n",
    "        content_book['Url Inicial']= urlI\n",
    "    else :\n",
    "        content_book['Url Inicial']=None\n",
    "    #obtener PDF\n",
    "    ancla_link=s_item.find('a', class_='galley-link btn btn-primary pdf').get('href')\n",
    "     #lin = [x.get('href')for x in ancla_link]\n",
    "    if ancla_link:\n",
    "        content_book['Link Articulo']=ancla_link\n",
    "    else :\n",
    "        content_book['Link Articulo']=None\n",
    "    return content_book"
   ]
  },
  {
   "cell_type": "code",
   "execution_count": null,
   "id": "99da66a5-cbd7-42a7-a6a7-6fc56313f91d",
   "metadata": {},
   "outputs": [],
   "source": [
    "  list_scraper=list_scraper[0:107]\n",
    "datos_book=[]\n",
    "for idx, i in enumerate(list_scraper):\n",
    "    print(f'estas escrapeando la pag {idx}')\n",
    "    datos_book.append(scraper_book(i))"
   ]
  },
  {
   "cell_type": "code",
   "execution_count": null,
   "id": "4ee4dd63-97ca-4aa3-b6b0-d08ad806634c",
   "metadata": {},
   "outputs": [],
   "source": [
    "df_catalogo=pd.DataFrame(datos_book)\n",
    "df_catalogo"
   ]
  },
  {
   "cell_type": "code",
   "execution_count": null,
   "id": "58be08fd-ec35-4260-ab68-98133d8aed61",
   "metadata": {},
   "outputs": [],
   "source": [
    "df_catalogo.to_csv('Revist42.csv', index=False)"
   ]
  }
 ],
 "metadata": {
  "kernelspec": {
   "display_name": "Python 3 (ipykernel)",
   "language": "python",
   "name": "python3"
  },
  "language_info": {
   "codemirror_mode": {
    "name": "ipython",
    "version": 3
   },
   "file_extension": ".py",
   "mimetype": "text/x-python",
   "name": "python",
   "nbconvert_exporter": "python",
   "pygments_lexer": "ipython3",
   "version": "3.10.4"
  }
 },
 "nbformat": 4,
 "nbformat_minor": 5
}
