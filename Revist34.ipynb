{
 "cells": [
  {
   "cell_type": "code",
   "execution_count": 13,
   "id": "7137faa8-a3a0-4a40-9932-54dbff5930dc",
   "metadata": {},
   "outputs": [],
   "source": [
    "import requests\n",
    "import bs4\n",
    "from bs4 import BeautifulSoup\n",
    "from urllib.parse import urljoin\n",
    "import pandas as pd"
   ]
  },
  {
   "cell_type": "code",
   "execution_count": 14,
   "id": "2540b9e1-5bd2-4552-9f58-39df88731edd",
   "metadata": {},
   "outputs": [],
   "source": [
    "url_inicial='https://www.imbiomed.com.mx/ejemplar.php?idr=40'\n",
    "url_root='https://www.imbiomed.com.mx/ejemplar.php?idr=40'\n",
    "r = requests.get(url_inicial)"
   ]
  },
  {
   "cell_type": "code",
   "execution_count": 15,
   "id": "48700d5c-b128-4662-bcce-2e7d4efa335a",
   "metadata": {},
   "outputs": [],
   "source": [
    "soup = BeautifulSoup(r.text, 'html.parser')"
   ]
  },
  {
   "cell_type": "code",
   "execution_count": 9,
   "id": "101f3de4-73d2-4539-8a69-94fe09b145e7",
   "metadata": {},
   "outputs": [
    {
     "data": {
      "text/plain": [
       "<div id=\"listadoEjemplares\">\n",
       "<div class=\"alert alert-info\">\n",
       "<strong><i aria-hidden=\"true\" class=\"fa fa-hand-o-up\"></i> Selecciona el año </strong>de publicación del ejemplar.\n",
       "                      </div>\n",
       "</div>"
      ]
     },
     "execution_count": 9,
     "metadata": {},
     "output_type": "execute_result"
    }
   ],
   "source": [
    "box = soup.find('section', id='seccionEjemplaresAnuales')\n",
    "volumen=box.find('div',id='listadoEjemplares')\n",
    "#vol=box.findAll('td')\n",
    "#vol\n",
    "volumen"
   ]
  },
  {
   "cell_type": "code",
   "execution_count": null,
   "id": "e501069b-34ac-4c04-aac8-8d0f06fb2545",
   "metadata": {},
   "outputs": [],
   "source": []
  }
 ],
 "metadata": {
  "kernelspec": {
   "display_name": "Python 3 (ipykernel)",
   "language": "python",
   "name": "python3"
  },
  "language_info": {
   "codemirror_mode": {
    "name": "ipython",
    "version": 3
   },
   "file_extension": ".py",
   "mimetype": "text/x-python",
   "name": "python",
   "nbconvert_exporter": "python",
   "pygments_lexer": "ipython3",
   "version": "3.10.4"
  }
 },
 "nbformat": 4,
 "nbformat_minor": 5
}
