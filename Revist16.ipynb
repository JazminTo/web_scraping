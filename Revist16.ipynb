{
 "cells": [
  {
   "cell_type": "code",
   "execution_count": null,
   "id": "c88c5bf9-7b83-4a13-9485-9a60af7f78fe",
   "metadata": {},
   "outputs": [],
   "source": [
    "import requests\n",
    "import bs4\n",
    "from bs4 import BeautifulSoup\n",
    "from urllib.parse import urljoin\n",
    "import pandas as pd"
   ]
  },
  {
   "cell_type": "code",
   "execution_count": null,
   "id": "4483bdfd-3716-4cf6-a2d7-4eb78cea60e0",
   "metadata": {},
   "outputs": [],
   "source": [
    "url_inicial='http://www.astroscu.unam.mx/RMxAA/index.html'\n",
    "url_root='http://www.astroscu.unam.mx/RMxAA/index.html'\n",
    "page = requests.get(url_inicial)"
   ]
  },
  {
   "cell_type": "code",
   "execution_count": null,
   "id": "30443907-c509-4885-a4ae-574e66dee16b",
   "metadata": {},
   "outputs": [],
   "source": [
    "soup = BeautifulSoup(page.text, 'html.parser')"
   ]
  },
  {
   "cell_type": "code",
   "execution_count": null,
   "id": "e92705af-58ca-40c5-9e95-92f49fcc6786",
   "metadata": {},
   "outputs": [],
   "source": [
    "volumen=soup.find('div', class_='col-4-center')"
   ]
  },
  {
   "cell_type": "code",
   "execution_count": null,
   "id": "d4f26dcb-6e0b-4e6d-932b-95a0b0f0b0c4",
   "metadata": {},
   "outputs": [],
   "source": [
    "v = volumen.find('ul')\n",
    "vo=v.findAll('li')\n",
    "vol = [x.find('a').get('href')for x in vo]\n",
    "vol=[urljoin(url_root,i) for i in vol]\n",
    "vol"
   ]
  },
  {
   "cell_type": "code",
   "execution_count": null,
   "id": "1b40f43e-a701-4ae9-947d-96582fdab399",
   "metadata": {},
   "outputs": [],
   "source": [
    "def get_url_items(sopa, url): \n",
    "    volumen=sopa.find('div', class_='col-4-center')\n",
    "    v = volumen.find('ul')\n",
    "    vo=v.findAll('li')\n",
    "    vol = [x.find('a').get('href')for x in vo]\n",
    "    vol=[urljoin(url_root,i) for i in vol]\n",
    "    return vol"
   ]
  },
  {
   "cell_type": "code",
   "execution_count": null,
   "id": "74cdcba7-caa4-4eff-bf6d-8b85927f712a",
   "metadata": {},
   "outputs": [],
   "source": [
    "\n",
    "links_items=[]\n",
    "i=0\n",
    "while i<1:\n",
    "    i+=1\n",
    "    print(f'Estoy en la pagina {url_inicial}')\n",
    "    r_pag=requests.get(url_inicial)\n",
    "    s_p=BeautifulSoup(r_pag.text,'html.parser')\n",
    "    links=get_url_items(s_p, url_inicial)\n",
    "    links_items.append(links) \n",
    "    next_a=s_p.select('li.next > a')\n",
    "    if not next_a or not next_a[0].get('href'):\n",
    "        break\n",
    "    url_inicial = urljoin(url_inicial, next_a[0].get('href'))"
   ]
  },
  {
   "cell_type": "code",
   "execution_count": null,
   "id": "83c3a52c-773e-44fc-a65c-036318ed2d5e",
   "metadata": {},
   "outputs": [],
   "source": [
    "list_scraper=[]\n",
    "for i in links_items:\n",
    "    for j in i:\n",
    "        list_scraper.append(j)\n",
    "len(list_scraper)"
   ]
  },
  {
   "cell_type": "code",
   "execution_count": null,
   "id": "0c663674-5775-45ab-9250-125745036fca",
   "metadata": {},
   "outputs": [],
   "source": [
    "uno=list_scraper[0]\n",
    "r_item=requests.get(uno)\n",
    "s_item=BeautifulSoup(r_item.text, 'html.parser')"
   ]
  },
  {
   "cell_type": "code",
   "execution_count": null,
   "id": "1f032237-488d-48a4-8355-4cb50ce3774e",
   "metadata": {},
   "outputs": [],
   "source": [
    "def scraper_book(url):\n",
    "    content_book={}\n",
    "    tr='Revista Mexicana de Astronomía y Astrofísica'\n",
    "    a='I. Físico Matemáticas y Ciencias de la Tierra'\n",
    "    te='Astronomía y Astrofísica'\n",
    "    ul='http://www.astroscu.unam.mx/RMxAA/'\n",
    "    r=requests.get(url)\n",
    "    s_item=BeautifulSoup(r.text,'html.parser')\n",
    "    tituloR=tr\n",
    "    if tituloR:\n",
    "        content_book['Titulo Revista']=tituloR\n",
    "    else :\n",
    "        content_book['Titulo Revista']=None\n",
    "    area=a\n",
    "    if area:\n",
    "        content_book['Area']=area\n",
    "    else :\n",
    "        content_book['Area']=None\n",
    "    tematica=te\n",
    "    if tematica:\n",
    "        content_book['Tematica']=tematica\n",
    "    else :\n",
    "        content_book['Tematica']=None\n",
    "    #titulo del libro\n",
    "    try:\n",
    "        titulo=s_item.find('div', id='contenido').find('ul').get_text(strip=True)\n",
    "        content_book['Titulo']=titulo\n",
    "    except AttributeError:\n",
    "        content_book['Titulo']=None\n",
    "    try:\n",
    "        des=s_item.find('div', class_='panel-body').get_text(strip=True)\n",
    "        content_book['Resumen']=des\n",
    "    except AttributeError:\n",
    "        content_book['Resumen']=None\n",
    "    urlI=ul\n",
    "    if urlI:\n",
    "        content_book['Url Inicial']= urlI\n",
    "    else :\n",
    "        content_book['Url Inicial']=None\n",
    "        #obtener link PDF\n",
    "    try:\n",
    "        ancla_link=s_item.find('div', id='contenido').find('li').find('a').get('href')\n",
    "        content_book['Link Articulo']=ancla_link\n",
    "    except AttributeError:\n",
    "        content_book['Link Articulo']=None\n",
    "    return content_book"
   ]
  },
  {
   "cell_type": "code",
   "execution_count": null,
   "id": "d38ffad2-d38f-4143-aa71-4d8b4d6a2fc7",
   "metadata": {},
   "outputs": [],
   "source": [
    "list_scraper=list_scraper[0:37]\n",
    "datos_book=[]\n",
    "for idx, i in enumerate(list_scraper):\n",
    "    print(f'estas escrapeando la pag {idx}')\n",
    "    datos_book.append(scraper_book(i))"
   ]
  },
  {
   "cell_type": "code",
   "execution_count": null,
   "id": "4cac97ad-40f8-41b7-b184-aee871c9dd10",
   "metadata": {},
   "outputs": [],
   "source": [
    "df_catalogo=pd.DataFrame(datos_book)\n",
    "df_catalogo"
   ]
  },
  {
   "cell_type": "code",
   "execution_count": null,
   "id": "8234e95c-80d7-4cdc-959b-98753e62d7bb",
   "metadata": {},
   "outputs": [],
   "source": [
    "df_catalogo.to_csv('Revist16.csv', index=False)"
   ]
  },
  {
   "cell_type": "code",
   "execution_count": null,
   "id": "46347c3d-a8b7-46fc-9e0e-2da2bf966ff8",
   "metadata": {},
   "outputs": [],
   "source": []
  }
 ],
 "metadata": {
  "kernelspec": {
   "display_name": "Python 3 (ipykernel)",
   "language": "python",
   "name": "python3"
  },
  "language_info": {
   "codemirror_mode": {
    "name": "ipython",
    "version": 3
   },
   "file_extension": ".py",
   "mimetype": "text/x-python",
   "name": "python",
   "nbconvert_exporter": "python",
   "pygments_lexer": "ipython3",
   "version": "3.10.4"
  }
 },
 "nbformat": 4,
 "nbformat_minor": 5
}
