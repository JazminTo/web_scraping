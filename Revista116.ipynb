{
 "cells": [
  {
   "cell_type": "markdown",
   "id": "086bc827-ce33-4f84-aacd-3ee516c1ad12",
   "metadata": {},
   "source": [
    "# WEB SCRAPING\n",
    "  \n",
    "Es una técnica para extraer y almacenar datos de una o varias páginas web con el fin de analizarlos o manipularlos en otros medios, para la cual se utilizan bots para extraer los datos y contenidos de las webs. \n",
    "\n",
    "### Importación de librerías.\n",
    "\n",
    "* Requests realiza la petición al servidor.\n",
    "\n",
    "* BeautifulSoup analizar documentos HTML.\n",
    "\n",
    "* Pandas podemos representar datos tabulares con columnas con etiquetas y filas y series temporales."
   ]
  },
  {
   "cell_type": "code",
   "execution_count": null,
   "id": "45f04708-aa0a-4752-910a-4e432e451014",
   "metadata": {},
   "outputs": [],
   "source": [
    "import requests\n",
    "import bs4\n",
    "from bs4 import BeautifulSoup\n",
    "from urllib.parse import urljoin\n",
    "import pandas as pd"
   ]
  },
  {
   "cell_type": "markdown",
   "id": "6f4a20d8-979b-494f-9f09-4c6d4bbace07",
   "metadata": {},
   "source": [
    "Se realiza un request de la url_inicial de la revista, url_root nos ayuda a genera un url completa a partir de la url raíz para esto se utiliza la librería urljoin.\n",
    "\n",
    "La revista que se está scrapendo es la siguiente https://www.elsevier.es/es-revista-revista-mexicana-trastornos-alimentarios--110"
   ]
  },
  {
   "cell_type": "code",
   "execution_count": null,
   "id": "e5a99243-10bf-4715-a3a8-0ba9d3ca4939",
   "metadata": {},
   "outputs": [],
   "source": [
    "url_inicial='https://www.elsevier.es/es-revista-revista-mexicana-trastornos-alimentarios--110-numeros-anteriores-anio-2013'\n",
    "url_root= 'https://www.elsevier.es/es-revista-revista-mexicana-trastornos-alimentarios--110-numeros-anteriores-anio-2013'\n",
    "r = requests.get(url_inicial)"
   ]
  },
  {
   "cell_type": "code",
   "execution_count": null,
   "id": "6642e064-2061-478a-8b48-e0e10237167b",
   "metadata": {},
   "outputs": [],
   "source": [
    "soup = BeautifulSoup(r.text, 'html.parser')"
   ]
  },
  {
   "cell_type": "markdown",
   "id": "2a7f3f71-8874-44dc-bcab-dee4326e8881",
   "metadata": {},
   "source": [
    "### Obtención de los primeros volúmenes.\n",
    "\n",
    "Se realiza la búsqueda para obtener los urls de cada uno de los volúmenes o archivos de la revista."
   ]
  },
  {
   "cell_type": "code",
   "execution_count": null,
   "id": "ba64e61b-a191-4cb9-98c4-da27787e349b",
   "metadata": {},
   "outputs": [],
   "source": [
    "volumen = soup.find('div', class_='sumarios decada-2013')\n",
    "vol=volumen.findAll('div',class_='portada cell')\n",
    "vo = [x.find('a').get('href')for x in vol]\n",
    "vo=[urljoin(url_root,i) for i in vo]\n",
    "vo"
   ]
  },
  {
   "cell_type": "markdown",
   "id": "8a247cff-98fa-453e-b6a8-d201a0be3857",
   "metadata": {},
   "source": [
    "### Obtención de los segundos urls.\n",
    "\n",
    "Se realiza una lista en la que la variable *vol* que contiene las urls de cada uno de los volúmenes publicados de la revista, con estos urls obtenidos,  con la variable *vol* se implementa un ciclo en el cual se utiliza la variable *vol2* de la cual se van acumulando las siguientes urls."
   ]
  },
  {
   "cell_type": "code",
   "execution_count": null,
   "id": "3b1b3dd7-c92a-4d95-908c-393b0f71b21f",
   "metadata": {},
   "outputs": [],
   "source": [
    "vol2 =[]\n",
    "for i in vo: \n",
    "    url_inicial1=i \n",
    "    r1 = requests.get(url_inicial1)\n",
    "    soup1 = BeautifulSoup(r1.text, 'html.parser')\n",
    "    box1 = soup1.find('div', class_='items') \n",
    "    volumen1=box1.findAll('div', class_='item-preview')\n",
    "    vol1 = [x.find('a').get('href')for x in volumen1]\n",
    "    vol1=[urljoin(url_root,i) for i in vol1]\n",
    "    vol2+=vol1"
   ]
  },
  {
   "cell_type": "code",
   "execution_count": null,
   "id": "e03ba5e2-1aa3-4f43-8312-a09721d9c35a",
   "metadata": {},
   "outputs": [],
   "source": [
    "vol2"
   ]
  },
  {
   "cell_type": "markdown",
   "id": "4ecc180c-df92-4fa8-9ec2-2ae863be689d",
   "metadata": {},
   "source": [
    "En esta función variable sopa se utiliza para tener las paginaciones de la revista y la variable url es guardan cada uno de url que ya se obtuvieron de *vol2*."
   ]
  },
  {
   "cell_type": "code",
   "execution_count": null,
   "id": "7defc3e8-d117-4097-9a8a-5b0d95caf94f",
   "metadata": {},
   "outputs": [],
   "source": [
    "def get_url_items(sopa, url): \n",
    "    box1 = soup1.find('div', class_='items') \n",
    "    volumen1=box1.findAll('div', class_='item-preview')\n",
    "    vol1 = [x.find('a').get('href')for x in volumen1]\n",
    "    return vol2"
   ]
  },
  {
   "cell_type": "markdown",
   "id": "a4b5be4f-024f-4fd3-a0ac-c5ed27c427ef",
   "metadata": {},
   "source": [
    "Ahora se va acumulando cada uno de los links e ir iterando en cada una de las páginas, para traer cada uno de los links que se van a ir scrapeando."
   ]
  },
  {
   "cell_type": "code",
   "execution_count": null,
   "id": "07ed159e-75c5-4ab1-a5a6-28e78c80ea00",
   "metadata": {},
   "outputs": [],
   "source": [
    "links_items=[]\n",
    "i=0\n",
    "while i<1:\n",
    "    i+=1\n",
    "    print(f'Estoy en la pagina {url_inicial}')\n",
    "    r_pag=requests.get(url_inicial)\n",
    "    s_p=BeautifulSoup(r_pag.text,'html.parser')\n",
    "    links=get_url_items(s_p, url_inicial)\n",
    "    links_items.append(links) \n",
    "    next_a=s_p.select('li.next > a')\n",
    "    if not next_a or not next_a[0].get('href'):\n",
    "        break\n",
    "    url_inicial = urljoin(url_inicial, next_a[0].get('href'))"
   ]
  },
  {
   "cell_type": "markdown",
   "id": "8a2a82cf-cded-4478-9f0b-63aa108bc168",
   "metadata": {},
   "source": [
    "Obtiene el número de los artículos que se encontraron en los primeros volúmenes de la revista."
   ]
  },
  {
   "cell_type": "code",
   "execution_count": null,
   "id": "6b7fdbc9-a41f-46da-9417-785c13d1451b",
   "metadata": {},
   "outputs": [],
   "source": [
    "list_scraper=[]\n",
    "for i in links_items:\n",
    "    for j in i:\n",
    "        list_scraper.append(j)\n",
    "len(list_scraper)"
   ]
  },
  {
   "cell_type": "markdown",
   "id": "f90adc14-9062-4a52-818d-0b22b2b9150d",
   "metadata": {},
   "source": [
    "Toma uno a uno de los links donde se encuentra la información de cada artículo para Scrapearlos."
   ]
  },
  {
   "cell_type": "code",
   "execution_count": null,
   "id": "898d9ad2-f0b3-428b-83f3-6932cd2bb76f",
   "metadata": {},
   "outputs": [],
   "source": [
    "uno=list_scraper[0]\n",
    "r_item=requests.get(uno)\n",
    "s_item=BeautifulSoup(r_item.text, 'html.parser')"
   ]
  },
  {
   "cell_type": "markdown",
   "id": "0ff1e928-57fd-4b8f-9a96-08c94ec95a1b",
   "metadata": {},
   "source": [
    "### Scrapeo de las urls de los ariculos.\n",
    "\n",
    "Mediante esta función revisa cada uno de los links de los artículos en los cuales se encuentra la información\n",
    "del artículo, por lo cual se aplican cada uno de los métodos, que nos van a obtener lo que estamos requiriendo de dicho artículo."
   ]
  },
  {
   "cell_type": "code",
   "execution_count": null,
   "id": "7ce51423-53df-4140-908b-0497c2897c7e",
   "metadata": {},
   "outputs": [],
   "source": [
    "def scraper_book(url):\n",
    "    content_book={}\n",
    "    r=requests.get(url)\n",
    "    tr='Revista Mexicana de Trastornos Alimentarios'\n",
    "    a='III. Medicina y Ciencias de la Salud'\n",
    "    te='Comportamiento Alimentario'\n",
    "    s_item=BeautifulSoup(r.text,'html.parser')\n",
    "    tituloR=tr\n",
    "    if tituloR:\n",
    "        content_book['Titulo Revista']=tituloR\n",
    "    else :\n",
    "        content_book['Titulo Revista']=None\n",
    "    area=a\n",
    "    if area:\n",
    "        content_book['Area']=area\n",
    "    else :\n",
    "        content_book['Area']=None\n",
    "    tematica=te\n",
    "    if tematica:\n",
    "        content_book['Tematica']=tematica\n",
    "    else :\n",
    "        content_book['Tematica']=None\n",
    "    #titulo del libro\n",
    "    try:\n",
    "        titulo=s_item.find('div', class_='elsevierItemTitulo').get_text(strip=True)\n",
    "        content_book['Titulo Articulo']=titulo\n",
    "    except AttributeError:\n",
    "        content_book['Titulo Articulo']=None\n",
    "    try:\n",
    "        des=s_item.find('div', class_='panel-body').get_text(strip=True)\n",
    "        content_book['Resumen']=des.replace(\"Resumen\",\"\")\n",
    "    except AttributeError:\n",
    "        content_book['Resumen']=None\n",
    "    try:\n",
    "        de=s_item.find('div', class_='elsevierItemResumenPalabrasResumenTexto').get_text(strip=True)\n",
    "        content_book['Abstract']=de#.replace(\"Abstract\",\"\")\n",
    "    except AttributeError:\n",
    "        content_book['Abstract']=None\n",
    "    try:\n",
    "        urlA=url\n",
    "        content_book['Link Articulo']=urlA\n",
    "    except AttributeError:\n",
    "        content_book['Link Articulo']=None\n",
    "        #obtener link PDF\n",
    "    try:\n",
    "        ancla_link=s_item.find('div', class_='item-anchors desktop').find('a').get('href')\n",
    "        content_book['Link PDF']=urljoin(url_root,ancla_link)\n",
    "    except AttributeError:\n",
    "        content_book['Link PDF']=None\n",
    "    return content_book"
   ]
  },
  {
   "cell_type": "markdown",
   "id": "ff614671-a86a-4f4c-9ebc-779942a183ce",
   "metadata": {},
   "source": [
    "El list_scraper hace un scrapeo de la cada uno de los artículos, ya que en datos_book se acumuló la información obtenida de lo métodos anteriores."
   ]
  },
  {
   "cell_type": "code",
   "execution_count": null,
   "id": "f6e95219-fbbe-413b-a2e7-6abc8dd28c0d",
   "metadata": {},
   "outputs": [],
   "source": [
    "list_scraper=list_scraper[0:15]\n",
    "datos_book=[]\n",
    "for idx, i in enumerate(list_scraper):\n",
    "    print(f'estas escrapeando la pag {idx}')\n",
    "    datos_book.append(scraper_book(i))"
   ]
  },
  {
   "cell_type": "markdown",
   "id": "487a77ea-e96c-4f3b-b103-8dcd25507a1e",
   "metadata": {},
   "source": [
    "### Se obtiene la información requerida de los artículos.\n",
    "\n",
    "La variable **datos_book** es un listado en el que se recolecto la información requerida por lo cual\n",
    "se convierte en un **DataFrame**."
   ]
  },
  {
   "cell_type": "code",
   "execution_count": null,
   "id": "0766f87a-c30b-4933-8e77-788c9a15c35f",
   "metadata": {},
   "outputs": [],
   "source": [
    "df_catalogo=pd.DataFrame(datos_book)\n",
    "df_catalogo"
   ]
  },
  {
   "cell_type": "markdown",
   "id": "6740ea6a-a945-4ff6-ad31-879d96b232e1",
   "metadata": {},
   "source": [
    "En el caso de esta revista solo de deseaba obtener los artículos, por lo cual\n",
    "en algunas ocasiones se obtienes cosas diferentes, para esto con la función isin lo que hace es \n",
    "eliminar mediante el **Titulo Articulo** los archivos que no se desean."
   ]
  },
  {
   "cell_type": "code",
   "execution_count": null,
   "id": "dc478c3c-9611-4114-8bf2-58d7146e38dc",
   "metadata": {},
   "outputs": [],
   "source": [
    "df=df_catalogo[~ df_catalogo[\"Titulo Articulo\"].isin([\"Presentación\",\"Editorial\",\"Autores\",\"Introducción\",\"Corrigenda\",\"Comentario\",\"Revista completa\",\"Preliminares\",\"Portada e índice\",\"RESEÑAS\",\"indice\",\"In memoriam\",\"Resumen\",\"RESUMENES\",\"Horizontes\",\"ACERCA DE LOS AUTORES\",\"In Memoriam\",\"Complate journal\",\"Preliminary\",\"Preliminaries\",\"Complete Journal\",\"NOVEDADES EDITORIALES\",\"Autores\",\"Fondo Greimas\",\"Resúmenes\",\"Índice\",\"-\",\"Anticipos y deudas\",\"EDITORIAL\",\"Reseñas\",\"Acerca de los autores\",\"Acerca de Autores\",\"Acerca de los Autores\",\"ÍNDICE\",\"RESÚMENES\",\"Preface\",\"Retraction notice to “Buyer-Supplier Transport Access Measures for Industry Clusters” [JART 12 (2014) 839–849]\",\"Prof. Roberto Ortega-Martínez (1946–2014)\"])]\n",
    "df"
   ]
  },
  {
   "cell_type": "markdown",
   "id": "507fa867-4b2b-4931-bb9a-b72b234bdf93",
   "metadata": {},
   "source": [
    "La información solicitada se pasa a un **CSV**."
   ]
  },
  {
   "cell_type": "code",
   "execution_count": null,
   "id": "32dd37b9-3a34-47ae-b6cd-d4f5c8cc3318",
   "metadata": {},
   "outputs": [],
   "source": [
    "df.to_csv('Revista116.4.csv', index=False)"
   ]
  },
  {
   "cell_type": "markdown",
   "id": "deb20256-0dcb-43b1-ae66-28c632888414",
   "metadata": {},
   "source": [
    "Final del Código"
   ]
  },
  {
   "cell_type": "code",
   "execution_count": null,
   "id": "dc2cd3ec-23e3-4610-a8d9-e14b7fda431f",
   "metadata": {},
   "outputs": [],
   "source": []
  }
 ],
 "metadata": {
  "kernelspec": {
   "display_name": "Python 3 (ipykernel)",
   "language": "python",
   "name": "python3"
  },
  "language_info": {
   "codemirror_mode": {
    "name": "ipython",
    "version": 3
   },
   "file_extension": ".py",
   "mimetype": "text/x-python",
   "name": "python",
   "nbconvert_exporter": "python",
   "pygments_lexer": "ipython3",
   "version": "3.10.4"
  }
 },
 "nbformat": 4,
 "nbformat_minor": 5
}
