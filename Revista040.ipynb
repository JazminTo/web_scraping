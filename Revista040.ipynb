{
 "cells": [
  {
   "cell_type": "code",
   "execution_count": null,
   "id": "3dfd5a2c-e424-4866-923f-4034065d6896",
   "metadata": {},
   "outputs": [],
   "source": [
    "import requests\n",
    "import bs4\n",
    "from bs4 import BeautifulSoup\n",
    "from urllib.parse import urljoin\n",
    "import pandas as pd"
   ]
  },
  {
   "cell_type": "code",
   "execution_count": null,
   "id": "a54e8d72-9136-45f0-818f-d9ca706ab952",
   "metadata": {},
   "outputs": [],
   "source": [
    "url_inicial='https://www.revista.ccba.uady.mx/ojs/index.php/TSA/issue/archive'\n",
    "url_root='https://www.revista.ccba.uady.mx/ojs/index.php/TSA/issue/archive'\n",
    "r = requests.get(url_inicial)"
   ]
  },
  {
   "cell_type": "code",
   "execution_count": null,
   "id": "782c6d46-c00f-458e-b19b-a316b5a1d593",
   "metadata": {},
   "outputs": [],
   "source": [
    "soup = BeautifulSoup(r.text, 'html.parser')"
   ]
  },
  {
   "cell_type": "code",
   "execution_count": null,
   "id": "d767f9a9-f421-4287-a1e1-e42a7b40cfc3",
   "metadata": {},
   "outputs": [],
   "source": [
    "volo=soup.find('div', id='issues')\n",
    "volu=volo.findAll('h4')\n",
    "vol = [x.find('a').get('href')for x in volu]\n",
    "vol"
   ]
  },
  {
   "cell_type": "code",
   "execution_count": null,
   "id": "cda191bb-cd01-4e8d-bf07-60099dad0faf",
   "metadata": {},
   "outputs": [],
   "source": [
    "vol2 =[]\n",
    "for i in vol: \n",
    "    url_inicial1=i \n",
    "    r1 = requests.get(url_inicial1)\n",
    "    soup1 = BeautifulSoup(r1.text, 'html.parser')\n",
    "    box1 = soup1.find('div', id='content') \n",
    "    volumen1=box1.findAll('a')\n",
    "    vol1 = [x.get('href')for x in volumen1]\n",
    "    #links = [x.find(\"a\")[\"href\"] for x in box1.findAll(\"div\", class_=\"tocTitle\")]\n",
    "    #vol1=[urljoin(url_root,i) for i in vol1]\n",
    "    vol2+=vol1"
   ]
  },
  {
   "cell_type": "code",
   "execution_count": null,
   "id": "71861199-65d0-4397-8130-a70433884188",
   "metadata": {},
   "outputs": [],
   "source": [
    "vol2"
   ]
  },
  {
   "cell_type": "code",
   "execution_count": null,
   "id": "c45c2776-6be4-4d88-a6c9-1bc0cf90b2d1",
   "metadata": {},
   "outputs": [],
   "source": [
    "def get_url_items(sopa, url): \n",
    "    box1 = soup1.find('div', id='content') \n",
    "    volumen1=box1.findAll('a')\n",
    "    vol1 = [x.get('href')for x in volumen1]\n",
    "    return vol2"
   ]
  },
  {
   "cell_type": "code",
   "execution_count": null,
   "id": "b3c8d111-c895-4cee-8f9c-cd1110b9d384",
   "metadata": {},
   "outputs": [],
   "source": [
    "\n",
    "links_items=[]\n",
    "i=0\n",
    "while i<1:\n",
    "    i+=1\n",
    "    print(f'Estoy en la pagina {url_inicial}')\n",
    "    r_pag=requests.get(url_inicial)\n",
    "    s_p=BeautifulSoup(r_pag.text,'html.parser')\n",
    "    links=get_url_items(s_p, url_inicial)\n",
    "    links_items.append(links) \n",
    "    next_a=s_p.select('li.next > a')\n",
    "    if not next_a or not next_a[0].get('href'):\n",
    "        break\n",
    "    url_inicial = urljoin(url_inicial, next_a[0].get('href'))"
   ]
  },
  {
   "cell_type": "code",
   "execution_count": null,
   "id": "2bf57f39-c3a3-4f5c-8bc2-f6b221d2cec8",
   "metadata": {},
   "outputs": [],
   "source": [
    "list_scraper=[]\n",
    "for i in links_items:\n",
    "    for j in i:\n",
    "        list_scraper.append(j)\n",
    "len(list_scraper)"
   ]
  },
  {
   "cell_type": "code",
   "execution_count": null,
   "id": "1944b49e-fea5-4ef8-9c9e-45382c03745c",
   "metadata": {},
   "outputs": [],
   "source": [
    "def scraper_book(url):\n",
    "    content_book={}\n",
    "    r=requests.get(url)\n",
    "    tr='Tropical and Subtropical Agroecosystems'\n",
    "    a='VI. Biotecnología y Ciencias Agropecuarias'\n",
    "    te='Ciencias Agrícolas y Biológicas'\n",
    "    s_item=BeautifulSoup(r.text,'html.parser')\n",
    "    tituloR=tr\n",
    "    if tituloR:\n",
    "        content_book['Titulo Revista']=tituloR\n",
    "    else :\n",
    "        content_book['Titulo Revista']=None\n",
    "    area=a\n",
    "    if area:\n",
    "        content_book['Area']=area\n",
    "    else :\n",
    "        content_book['Area']=None\n",
    "    tematica=te\n",
    "    if tematica:\n",
    "        content_book['Tematica']=tematica\n",
    "    else :\n",
    "        content_book['Tematica']=None\n",
    "    #titulo del libro\n",
    "    try:\n",
    "        titulo=s_item.find('h3').get_text(strip=True)\n",
    "        content_book['Titulo Articulo']=titulo\n",
    "    except AttributeError:\n",
    "        content_book['Titulo Articulo']=None\n",
    "    try:\n",
    "        des=s_item.find('div', class_='panel-boody').get_text(strip=True)\n",
    "        content_book['Resumen']=des\n",
    "    except AttributeError:\n",
    "        content_book['Resumen']=None\n",
    "    try:\n",
    "        de=s_item.find('div', id='articleAbstract').get_text(strip=True)\n",
    "        content_book['Abstract']=de.replace(\"Abstract\",\"\")\n",
    "    except AttributeError:\n",
    "        content_book['Abstract']=None\n",
    "    try:\n",
    "        urlA=url\n",
    "        content_book['Link Articulo']=urlA\n",
    "    except AttributeError:\n",
    "        content_book['Link Articulo']=None \n",
    "        #obtener link PDF\n",
    "    try:\n",
    "        lin=s_item.find('div', id='articleFullText').find('a').get('href')\n",
    "        content_book['Link PDF']=lin\n",
    "    except AttributeError:\n",
    "        content_book['Link PDF']=None\n",
    "    return content_book"
   ]
  },
  {
   "cell_type": "code",
   "execution_count": null,
   "id": "b305b270-53a5-4a9a-a1a8-e722b9b7d8fc",
   "metadata": {},
   "outputs": [],
   "source": [
    "list_scraper=list_scraper[0:2601]\n",
    "datos_book=[]\n",
    "for idx, i in enumerate(list_scraper):\n",
    "    print(f'estas escrapeando la pag {idx}')\n",
    "    datos_book.append(scraper_book(i))"
   ]
  },
  {
   "cell_type": "code",
   "execution_count": null,
   "id": "7e676eb9-4784-4c12-9a8c-3d699dddf89c",
   "metadata": {},
   "outputs": [],
   "source": [
    "df_catalogo=pd.DataFrame(datos_book)\n",
    "df_catalogo"
   ]
  },
  {
   "cell_type": "code",
   "execution_count": null,
   "id": "16e99bac-ec99-4746-9ecc-cd37a699f70b",
   "metadata": {},
   "outputs": [],
   "source": [
    "df_catalogo.to_csv('Revista040.csv', index=False)"
   ]
  },
  {
   "cell_type": "code",
   "execution_count": null,
   "id": "781abfbf-30cd-4f8d-bd90-c5a32231fe5e",
   "metadata": {},
   "outputs": [],
   "source": []
  }
 ],
 "metadata": {
  "kernelspec": {
   "display_name": "Python 3 (ipykernel)",
   "language": "python",
   "name": "python3"
  },
  "language_info": {
   "codemirror_mode": {
    "name": "ipython",
    "version": 3
   },
   "file_extension": ".py",
   "mimetype": "text/x-python",
   "name": "python",
   "nbconvert_exporter": "python",
   "pygments_lexer": "ipython3",
   "version": "3.10.4"
  }
 },
 "nbformat": 4,
 "nbformat_minor": 5
}
