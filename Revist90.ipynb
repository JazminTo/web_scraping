{
 "cells": [
  {
   "cell_type": "code",
   "execution_count": null,
   "id": "753c767b-ca8a-4c59-9e47-6c4edfd8deac",
   "metadata": {},
   "outputs": [],
   "source": [
    "import requests\n",
    "import bs4\n",
    "from bs4 import BeautifulSoup\n",
    "from urllib.parse import urljoin\n",
    "import pandas as pd"
   ]
  },
  {
   "cell_type": "code",
   "execution_count": null,
   "id": "50296719-012a-44b3-88b6-fa0daf7c76d0",
   "metadata": {},
   "outputs": [],
   "source": [
    "url_inicial='https://dermatologiarevistamexicana.org.mx/archivo/'\n",
    "url_root= 'https://dermatologiarevistamexicana.org.mx/archivo/'\n",
    "r = requests.get(url_inicial)"
   ]
  },
  {
   "cell_type": "code",
   "execution_count": null,
   "id": "164988af-6f70-4fc9-b855-3fddd102107b",
   "metadata": {},
   "outputs": [],
   "source": [
    "soup = BeautifulSoup(r.text, 'html.parser')"
   ]
  },
  {
   "cell_type": "code",
   "execution_count": null,
   "id": "fc7a3965-9c09-4932-bc29-18c264b29c58",
   "metadata": {},
   "outputs": [],
   "source": [
    "box = soup.find('div', class_='su-tabs-panes')\n",
    "volu=box.findAll('li')\n",
    "vol = [x.find('a').get('href')for x in volu]\n",
    "#vol=[urljoin(url_root,i) for i in vol]\n",
    "vol"
   ]
  },
  {
   "cell_type": "code",
   "execution_count": null,
   "id": "b1bfdd08-114d-4aba-9276-f8c6787fafd1",
   "metadata": {},
   "outputs": [],
   "source": [
    "def get_url_items(sopa, url): \n",
    "    box = soup.find('div', class_='su-tabs-panes')\n",
    "    volu=box.findAll('li')\n",
    "    vol = [x.find('a').get('href')for x in volu]\n",
    "    vol=[urljoin(url_root,i) for i in vol]\n",
    "    return vol"
   ]
  },
  {
   "cell_type": "code",
   "execution_count": null,
   "id": "1036b40d-80f7-4174-82e1-b6860fd3e17e",
   "metadata": {},
   "outputs": [],
   "source": [
    "links_items=[]\n",
    "i=0\n",
    "while i<1:\n",
    "    i+=1\n",
    "    print(f'Estoy en la pagina {url_inicial}')\n",
    "    r_pag=requests.get(url_inicial)\n",
    "    s_p=BeautifulSoup(r_pag.text,'html.parser')\n",
    "    links=get_url_items(s_p, url_inicial)\n",
    "    links_items.append(links) \n",
    "    next_a=s_p.select('li.next > a')\n",
    "    if not next_a or not next_a[0].get('href'):\n",
    "        break\n",
    "    url_inicial = urljoin(url_inicial, next_a[0].get('href'))"
   ]
  },
  {
   "cell_type": "code",
   "execution_count": null,
   "id": "489b37b5-317f-46fe-b393-da6737d85ae2",
   "metadata": {},
   "outputs": [],
   "source": [
    "list_scraper=[]\n",
    "for i in links_items:\n",
    "    for j in i:\n",
    "        list_scraper.append(j)\n",
    "len(list_scraper)"
   ]
  },
  {
   "cell_type": "code",
   "execution_count": null,
   "id": "b572474b-3c25-48c7-b409-67eb3f98d95f",
   "metadata": {},
   "outputs": [],
   "source": [
    "uno=list_scraper[0]\n",
    "r_item=requests.get(uno)\n",
    "s_item=BeautifulSoup(r_item.text, 'html.parser')"
   ]
  },
  {
   "cell_type": "code",
   "execution_count": null,
   "id": "9bbb3bb8-c89a-4272-9633-73fa979465cb",
   "metadata": {},
   "outputs": [],
   "source": [
    "def scraper_book(url):\n",
    "    content_book={}\n",
    "    r=requests.get(url)\n",
    "    tr='Dermatología Revista Mexicana'\n",
    "    a='III. Medicina y Ciencias de la Salud'\n",
    "    te='Medicina'\n",
    "    ul='https://dermatologiarevistamexicana.org.mx/'\n",
    "    s_item=BeautifulSoup(r.text,'html.parser')\n",
    "    tituloR=tr\n",
    "    if tituloR:\n",
    "        content_book['Titulo Revista']=tituloR\n",
    "    else :\n",
    "        content_book['Titulo Revista']=None\n",
    "    area=a\n",
    "    if area:\n",
    "        content_book['Area']=area\n",
    "    else :\n",
    "        content_book['Area']=None\n",
    "    tematica=te\n",
    "    if tematica:\n",
    "        content_book['Tematica']=tematica\n",
    "    else :\n",
    "        content_book['Tematica']=None\n",
    "    #titulo del libro\n",
    "    try:\n",
    "        titulo=s_item.find('span', class_='indice-articulos-esp').get_text(strip=True)\n",
    "        content_book['Titulo Articulo']=titulo\n",
    "    except AttributeError:\n",
    "        content_book['Titulo Articulo']=None\n",
    "    try:\n",
    "        des=s_item.find('div', class_='panel-body').get_text(strip=True)\n",
    "        content_book['Resumen']=des\n",
    "    except AttributeError:\n",
    "        content_book['Resumen']=None\n",
    "    urlI=ul\n",
    "    if urlI:\n",
    "        content_book['Url Inicial']= urlI\n",
    "    else :\n",
    "        content_book['Url Inicial']=None\n",
    "        #obtener link PDF\n",
    "    try:\n",
    "        ancla_link=s_item.find('h2', class_='indice-articulos-esp-sc').find('a').get('href')\n",
    "        content_book['Link Articulo']=urljoin(url_root,ancla_link)\n",
    "    except AttributeError:\n",
    "        content_book['Link Articulo']=None\n",
    "    return content_book"
   ]
  },
  {
   "cell_type": "code",
   "execution_count": null,
   "id": "709b9a27-528a-4100-9db5-6fdf1a588b4d",
   "metadata": {},
   "outputs": [],
   "source": [
    "list_scraper=list_scraper[0:65]\n",
    "datos_book=[]\n",
    "for idx, i in enumerate(list_scraper):\n",
    "    print(f'estas escrapeando la pag {idx}')\n",
    "    datos_book.append(scraper_book(i))"
   ]
  },
  {
   "cell_type": "code",
   "execution_count": null,
   "id": "a9f23b72-a657-4317-bd15-f32975244888",
   "metadata": {},
   "outputs": [],
   "source": [
    "df_catalogo=pd.DataFrame(datos_book)\n",
    "df_catalogo"
   ]
  },
  {
   "cell_type": "code",
   "execution_count": null,
   "id": "c554a542-9b3e-4c27-946d-a1d744327a8d",
   "metadata": {},
   "outputs": [],
   "source": [
    "df_catalogo.to_csv('Revist90.csv', index=False)"
   ]
  },
  {
   "cell_type": "code",
   "execution_count": null,
   "id": "37c9eeb2-81df-48b6-96c6-dd847a336a7a",
   "metadata": {},
   "outputs": [],
   "source": []
  }
 ],
 "metadata": {
  "kernelspec": {
   "display_name": "Python 3 (ipykernel)",
   "language": "python",
   "name": "python3"
  },
  "language_info": {
   "codemirror_mode": {
    "name": "ipython",
    "version": 3
   },
   "file_extension": ".py",
   "mimetype": "text/x-python",
   "name": "python",
   "nbconvert_exporter": "python",
   "pygments_lexer": "ipython3",
   "version": "3.10.4"
  }
 },
 "nbformat": 4,
 "nbformat_minor": 5
}
