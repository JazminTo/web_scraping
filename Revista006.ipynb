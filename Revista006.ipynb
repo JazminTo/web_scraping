{
 "cells": [
  {
   "cell_type": "markdown",
   "id": "5ad018cc-8261-4b53-993f-1d5de8a29e80",
   "metadata": {},
   "source": [
    "# WEB SCRAPING\n",
    "  \n",
    "Es una técnica para extraer y almacenar datos de una o varias páginas web con el fin de analizarlos o manipularlos en otros medios, para la cual se utilizan bots para extraer los datos y contenidos de las webs. \n",
    "\n",
    "### Importación de librerías.\n",
    "\n",
    "* Requests realiza la petición al servidor.\n",
    "\n",
    "* BeautifulSoup analizar documentos HTML.\n",
    "\n",
    "* Pandas podemos representar datos tabulares con columnas con etiquetas y filas y series temporales."
   ]
  },
  {
   "cell_type": "code",
   "execution_count": null,
   "id": "53b95a1b-af2b-471c-b146-50ded60a0334",
   "metadata": {},
   "outputs": [],
   "source": [
    "import requests\n",
    "import bs4\n",
    "from bs4 import BeautifulSoup\n",
    "from urllib.parse import urljoin\n",
    "import pandas as pd"
   ]
  },
  {
   "cell_type": "markdown",
   "id": "080ed67e-2361-4e67-bbea-27eb1db44f6b",
   "metadata": {},
   "source": [
    "Se realiza un request de la url_inicial de la revista, url_root nos ayuda a genera un url completa a partir de la url raíz para esto se utiliza la librería urljoin.\n",
    "\n",
    "La revista que se está scrapendo es la siguiente https://www.politicaygobierno.cide.edu/index.php/index"
   ]
  },
  {
   "cell_type": "code",
   "execution_count": null,
   "id": "21623cf2-835f-4bb0-a7d3-ba7e9b53a4a7",
   "metadata": {},
   "outputs": [],
   "source": [
    "url_inicial='http://www.politicaygobierno.cide.edu/index.php/pyg/issue/archive/3'\n",
    "url_root= 'http://www.politicaygobierno.cide.edu/index.php/pyg/issue/archive/3'\n",
    "r = requests.get(url_inicial)"
   ]
  },
  {
   "cell_type": "code",
   "execution_count": null,
   "id": "ded0287d-019a-4943-b0b7-56c37089dd79",
   "metadata": {},
   "outputs": [],
   "source": [
    "soup = BeautifulSoup(r.text, 'html.parser')"
   ]
  },
  {
   "cell_type": "markdown",
   "id": "bd41c324-0c05-4fb9-807a-686e99afd469",
   "metadata": {},
   "source": [
    "### Obtención de los primeros volúmenes.\n",
    "\n",
    "Se realiza la búsqueda para obtener los urls de cada uno de los volúmenes o archivos de la revista."
   ]
  },
  {
   "cell_type": "code",
   "execution_count": null,
   "id": "d8bb7fc4-3bb6-43a8-8ac3-242a1d1070f0",
   "metadata": {},
   "outputs": [],
   "source": [
    "volumen = soup.findAll('div',class_='obj_issue_summary')\n",
    "vol = [x.find('a').get('href')for x in volumen]\n",
    "vol"
   ]
  },
  {
   "cell_type": "markdown",
   "id": "2a71ad2c-6736-4c99-969a-7bf06b424ed8",
   "metadata": {},
   "source": [
    "### Obtención de los segundos urls.\n",
    "\n",
    "Se realiza una lista en la que la variable *vol* que contiene las urls de cada uno de los volúmenes publicados de la revista, con estos urls obtenidos,  con la variable *vol* se implementa un ciclo en el cual se utiliza la variable *vol2* de la cual se van acumulando las siguientes urls."
   ]
  },
  {
   "cell_type": "code",
   "execution_count": null,
   "id": "09249a0c-2438-4b5f-8bd8-11feade5ec02",
   "metadata": {},
   "outputs": [],
   "source": [
    "vol2 =[]\n",
    "for i in vol: \n",
    "    url_inicial1=i \n",
    "    r1 = requests.get(url_inicial1)\n",
    "    soup1 = BeautifulSoup(r1.text, 'html.parser')\n",
    "    box1 = soup1.find('div', class_='sections') \n",
    "    volumen1=box1.findAll('div', class_='title')\n",
    "    vol1 = [x.find('a').get('href')for x in volumen1]\n",
    "    vol2+=vol1"
   ]
  },
  {
   "cell_type": "code",
   "execution_count": null,
   "id": "3998c880-f48b-4d0e-bdc7-acb49573b4aa",
   "metadata": {},
   "outputs": [],
   "source": [
    "vol2"
   ]
  },
  {
   "cell_type": "markdown",
   "id": "a2f6f857-800a-4ef4-84f9-0095b67012eb",
   "metadata": {},
   "source": [
    "En esta función variable sopa se utiliza para tener las paginaciones de la revista y la variable url es guardan cada uno de url que ya se obtuvieron de *vol2*."
   ]
  },
  {
   "cell_type": "code",
   "execution_count": null,
   "id": "a8e44b1b-0ce2-4a0c-af9b-3d01bb5c208a",
   "metadata": {},
   "outputs": [],
   "source": [
    "def get_url_items(sopa, url): \n",
    "    box1 = soup1.find('div', class_='sections') \n",
    "    volumen1=box1.findAll('div', class_='title')\n",
    "    vol1 = [x.find('a').get('href')for x in volumen1]\n",
    "    #vol=[urljoin(url_root,i) for i in vol]\n",
    "    return vol2"
   ]
  },
  {
   "cell_type": "markdown",
   "id": "f5641df5-aea2-4b64-b7b7-72c4cbcba655",
   "metadata": {},
   "source": [
    "Ahora se va acumulando cada uno de los links e ir iterando en cada una de las páginas, para traer cada uno de los links que se van a ir scrapeando."
   ]
  },
  {
   "cell_type": "code",
   "execution_count": null,
   "id": "45672f65-3f1d-407d-930a-35919221e9cc",
   "metadata": {},
   "outputs": [],
   "source": [
    "links_items=[]\n",
    "i=0\n",
    "while i<1:\n",
    "    i+=1\n",
    "    print(f'Estoy en la pagina {url_inicial}')\n",
    "    r_pag=requests.get(url_inicial)\n",
    "    s_p=BeautifulSoup(r_pag.text,'html.parser')\n",
    "    links=get_url_items(s_p, url_inicial)\n",
    "    links_items.append(links) \n",
    "    next_a=s_p.select('div.cmp_pagination > a')\n",
    "    if not next_a or not next_a[0].get('href'):\n",
    "        break\n",
    "    url_inicial = urljoin(url_inicial, next_a[0].get('href'))"
   ]
  },
  {
   "cell_type": "markdown",
   "id": "5554d35a-f4b7-498b-8540-2e47029d6761",
   "metadata": {},
   "source": [
    "Obtiene el número de los artículos que se encontraron en los primeros volúmenes de la revista."
   ]
  },
  {
   "cell_type": "code",
   "execution_count": null,
   "id": "ed164c52-5ad8-4fea-b8df-fcbe057a99b7",
   "metadata": {},
   "outputs": [],
   "source": [
    "list_scraper=[]\n",
    "for i in links_items:\n",
    "    for j in i:\n",
    "        list_scraper.append(j)\n",
    "len(list_scraper)"
   ]
  },
  {
   "cell_type": "markdown",
   "id": "bb432455-7b71-4274-9692-6d1e2c6d7d2e",
   "metadata": {},
   "source": [
    "Toma uno a uno de los links donde se encuentra la información de cada artículo para Scrapearlos."
   ]
  },
  {
   "cell_type": "code",
   "execution_count": null,
   "id": "dcd2d875-6f7e-44aa-b367-4ccb30943d64",
   "metadata": {},
   "outputs": [],
   "source": [
    "uno=list_scraper[0]\n",
    "r_item=requests.get(uno)\n",
    "s_item=BeautifulSoup(r_item.text, 'html.parser')"
   ]
  },
  {
   "cell_type": "markdown",
   "id": "9b76df03-583f-4518-a438-1a8e624994f0",
   "metadata": {},
   "source": [
    "### Scrapeo de las urls de los ariculos.\n",
    "\n",
    "Mediante esta función revisa cada uno de los links de los artículos en los cuales se encuentra la información\n",
    "del artículo, por lo cual se aplican cada uno de los métodos, que nos van a obtener lo que estamos requiriendo de dicho artículo."
   ]
  },
  {
   "cell_type": "code",
   "execution_count": null,
   "id": "38304587-fbb4-4488-80ff-21c6f6b57db9",
   "metadata": {},
   "outputs": [],
   "source": [
    "def scraper_book(url):\n",
    "    content_book={}\n",
    "    r=requests.get(url)\n",
    "    tr='Política y Gobierno'\n",
    "    a='V. Ciencias Sociales'\n",
    "    te='Política Comparada, Teoría Política, Política Mexicana'\n",
    "    s_item=BeautifulSoup(r.text,'html.parser')\n",
    "    tituloR=tr\n",
    "    if tituloR:\n",
    "        content_book['Titulo Revista']=tituloR\n",
    "    else :\n",
    "        content_book['Titulo Revista']=None\n",
    "    area=a\n",
    "    if area:\n",
    "        content_book['Area']=area\n",
    "    else :\n",
    "        content_book['Area']=None\n",
    "    tematica=te\n",
    "    if tematica:\n",
    "        content_book['Tematica']=tematica\n",
    "    else :\n",
    "        content_book['Tematica']=None\n",
    "    #titulo del libro\n",
    "    titulo=s_item.find('h1', class_='page_title').get_text(strip=True)\n",
    "    if titulo:\n",
    "        content_book['Titulo Articulo']=titulo\n",
    "    else :\n",
    "        content_book['Titulo Articulo']=None\n",
    "    try:\n",
    "        des=s_item.find('div', class_='item abstract').get_text(strip=True)\n",
    "        content_book['Resumen']=des.replace(\"Resumen\",\"\")\n",
    "    except AttributeError:\n",
    "        content_book['Resumen']=None\n",
    "    try:\n",
    "        de=s_item.find('div', class_='item abstractt').get_text(strip=True)\n",
    "        content_book['Abstract']=de\n",
    "    except AttributeError:\n",
    "        content_book['Abstract']=None\n",
    "    try:\n",
    "        urlA=url\n",
    "        content_book['Link Articulo']=urlA\n",
    "    except AttributeError:\n",
    "        content_book['Link Articulo']=None\n",
    "        #obtener link PDF\n",
    "    try:\n",
    "        ancla_link=s_item.find('ul', class_='value galleys_links').find('li').find('a').get('href')\n",
    "        content_book['Link PDF']=ancla_link\n",
    "    except AttributeError:\n",
    "        content_book['Link PDF']=None\n",
    "    return content_book"
   ]
  },
  {
   "cell_type": "markdown",
   "id": "41c9f9cc-44ef-4e67-9d6f-c198731da921",
   "metadata": {},
   "source": [
    "El list_scraper hace un scrapeo de la cada uno de los artículos, ya que en datos_book se acumuló la información obtenida de lo métodos anteriores."
   ]
  },
  {
   "cell_type": "code",
   "execution_count": null,
   "id": "0522c977-8f13-456b-99e9-58fd29a4962e",
   "metadata": {},
   "outputs": [],
   "source": [
    "list_scraper=list_scraper[0:160]\n",
    "datos_book=[]\n",
    "for idx, i in enumerate(list_scraper):\n",
    "    print(f'estas escrapeando la pag {idx}')\n",
    "    datos_book.append(scraper_book(i))"
   ]
  },
  {
   "cell_type": "markdown",
   "id": "03f4974d-b100-411b-a677-9bb9b8bf6c39",
   "metadata": {},
   "source": [
    "### Se obtiene la información requerida de los artículos.\n",
    "\n",
    "La variable **datos_book** es un listado en el que se recolecto la información requerida por lo cual\n",
    "se convierte en un **DataFrame**."
   ]
  },
  {
   "cell_type": "code",
   "execution_count": null,
   "id": "8c365ab8-afb9-4dbb-ba53-f8cdf42956db",
   "metadata": {},
   "outputs": [],
   "source": [
    "df_catalogo=pd.DataFrame(datos_book)\n",
    "df_catalogo"
   ]
  },
  {
   "cell_type": "markdown",
   "id": "5b231327-4be9-4dc7-9240-a4be976a154d",
   "metadata": {},
   "source": [
    "La información solicitada se pasa a un **CSV**."
   ]
  },
  {
   "cell_type": "code",
   "execution_count": null,
   "id": "074d5ba1-e44b-4a5f-b3c7-7dc7b64a9f2d",
   "metadata": {},
   "outputs": [],
   "source": [
    "df_catalogo.to_csv('Revista006.2.csv', index=False)"
   ]
  },
  {
   "cell_type": "markdown",
   "id": "a0da15f8-9be1-418c-8d39-19cc7172b4f2",
   "metadata": {},
   "source": [
    "Final del Código"
   ]
  },
  {
   "cell_type": "code",
   "execution_count": null,
   "id": "d77d4d8f-bce4-4192-8b67-38cad9f2536e",
   "metadata": {},
   "outputs": [],
   "source": []
  }
 ],
 "metadata": {
  "kernelspec": {
   "display_name": "Python 3 (ipykernel)",
   "language": "python",
   "name": "python3"
  },
  "language_info": {
   "codemirror_mode": {
    "name": "ipython",
    "version": 3
   },
   "file_extension": ".py",
   "mimetype": "text/x-python",
   "name": "python",
   "nbconvert_exporter": "python",
   "pygments_lexer": "ipython3",
   "version": "3.10.4"
  }
 },
 "nbformat": 4,
 "nbformat_minor": 5
}
