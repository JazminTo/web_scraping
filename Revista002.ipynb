{
 "cells": [
  {
   "cell_type": "code",
   "execution_count": null,
   "id": "ce16df17-5452-4a89-bf6c-72400c733c05",
   "metadata": {},
   "outputs": [],
   "source": [
    "#importar librerias\n",
    "#peticion al servidor\n",
    "import requests\n",
    "import bs4\n",
    "from bs4 import BeautifulSoup\n",
    "from urllib.parse import urljoin\n",
    "import pandas as pd"
   ]
  },
  {
   "cell_type": "code",
   "execution_count": null,
   "id": "0aa03477-1394-4bb5-8ba4-b1e4d9050c2b",
   "metadata": {},
   "outputs": [],
   "source": [
    "url_inicial='https://www.elsevier.es/en-revista-annals-hepatology-16-numeros-anteriores-anio-2002'\n",
    "url_root= 'https://www.elsevier.es/en-revista-annals-hepatology-16-numeros-anteriores-anio-2002'\n",
    "r = requests.get(url_inicial)"
   ]
  },
  {
   "cell_type": "code",
   "execution_count": null,
   "id": "b810d3f3-7a3a-4a0c-8439-6ed870d5d9d9",
   "metadata": {},
   "outputs": [],
   "source": [
    "#Se realiza la busquea de la primeras etiquetas\n",
    "#para obtener lo href de cada uno de lo volumenes o archivos de la revista.\n",
    "soup = BeautifulSoup(r.text, 'html.parser')\n",
    "volumen = soup.find('div', class_='sumarios decada-2002')\n",
    "vol=volumen.findAll('div',class_='portada cell')\n",
    "vo = [x.find('a').get('href')for x in vol]\n",
    "vo=[urljoin(url_root,i) for i in vo]\n",
    "vo"
   ]
  },
  {
   "cell_type": "code",
   "execution_count": null,
   "id": "a4205117-f329-49cc-bd9a-114858f65866",
   "metadata": {},
   "outputs": [],
   "source": [
    "#Se realiza un lista en la que la variable vol contiene los principales href\n",
    "#con estos href obtenidos, se implemeta un ciclo de esto para con ello obtener\n",
    "#los siguentes href de los arcticulos que se encuentran en cada uno de los volumenes o archivos\n",
    "#para esto se realiza la misma busqueda que al principio.\n",
    "vol2 =[]\n",
    "for i in vo: \n",
    "    url_inicial1=i \n",
    "    r1 = requests.get(url_inicial1)\n",
    "    soup1 = BeautifulSoup(r1.text, 'html.parser')\n",
    "    box1 = soup1.find('div', class_='items') \n",
    "    volumen1=box1.findAll('div', class_='item-preview')\n",
    "    vol1 = [x.find('a').get('href')for x in volumen1]\n",
    "    vol1=[urljoin(url_root,i) for i in vol1]\n",
    "    vol2+=vol1"
   ]
  },
  {
   "cell_type": "code",
   "execution_count": null,
   "id": "620485e4-66f5-49e7-ba8d-339b4516d286",
   "metadata": {},
   "outputs": [],
   "source": [
    "vol2"
   ]
  },
  {
   "cell_type": "code",
   "execution_count": null,
   "id": "677c4ba0-1106-4eed-8c3b-b08874820ccd",
   "metadata": {},
   "outputs": [],
   "source": [
    "#En esta parte la funcion es de obtener links\n",
    "def get_url_items(sopa, url): \n",
    "    box1 = soup1.find('div', class_='items') \n",
    "    volumen1=box1.findAll('div', class_='item-preview')\n",
    "    vol1 = [x.find('a').get('href')for x in volumen1]\n",
    "    vol1=[urljoin(url_root,i) for i in vol1]\n",
    "    return vol2"
   ]
  },
  {
   "cell_type": "code",
   "execution_count": null,
   "id": "08f78ad8-0524-4ae8-bab2-0e5b29ac16f5",
   "metadata": {},
   "outputs": [],
   "source": [
    "#Ahora se va acumulando cada uno de lo links e ir iterando en cada una\n",
    "#de las páginas, para traer cada unos de los links que se van a ir scrapeando.\n",
    "links_items=[]\n",
    "i=0\n",
    "while i<1:\n",
    "    i+=1\n",
    "    print(f'Estoy en la pagina {url_inicial}')\n",
    "    r_pag=requests.get(url_inicial)\n",
    "    s_p=BeautifulSoup(r_pag.text,'html.parser')\n",
    "    links=get_url_items(s_p, url_inicial)\n",
    "    links_items.append(links) \n",
    "    next_a=s_p.select('li.next > a')\n",
    "    if not next_a or not next_a[0].get('href'):\n",
    "        break\n",
    "    url_inicial = urljoin(url_inicial, next_a[0].get('href'))"
   ]
  },
  {
   "cell_type": "code",
   "execution_count": null,
   "id": "e1bd592e-982c-4fa5-938b-a93c76252cf3",
   "metadata": {},
   "outputs": [],
   "source": [
    "#Se hace un listado de los links de lo articulos que se obtuvieron.\n",
    "list_scraper=[]\n",
    "for i in links_items:\n",
    "    for j in i:\n",
    "        list_scraper.append(j)\n",
    "len(list_scraper)"
   ]
  },
  {
   "cell_type": "code",
   "execution_count": null,
   "id": "e7d23536-c094-4977-aadb-dd44113ae23b",
   "metadata": {},
   "outputs": [],
   "source": [
    "#Se estaran tomado uno a uno los links para Scrapearlos.\n",
    "uno=list_scraper[0]\n",
    "r_item=requests.get(uno)\n",
    "s_item=BeautifulSoup(r_item.text, 'html.parser')"
   ]
  },
  {
   "cell_type": "code",
   "execution_count": null,
   "id": "d274eb0f-a009-4e26-af3d-d1841ed330a7",
   "metadata": {},
   "outputs": [],
   "source": [
    "#Mediante esta función resivi cada uno de los links, va ir aplicando caca uno de \n",
    "#los metodos, que nos van a obtener lo que estamos requiriendo.\n",
    "def scraper_book(url):\n",
    "    content_book={}#diccionario que no va acumulando la imformacion que vamos poteniddo para el tada frame\n",
    "    r=requests.get(url)\n",
    "    tr='Annals of Hepatology'\n",
    "    a='III. Medicina y Ciencias de la Salud'\n",
    "    te='Hepatología'\n",
    "    s_item=BeautifulSoup(r.text,'html.parser')\n",
    "    tituloR=tr\n",
    "    if tituloR:\n",
    "        content_book['Titulo Revista']=tituloR\n",
    "    else :\n",
    "        content_book['Titulo Revista']=None\n",
    "    area=a\n",
    "    if area:\n",
    "        content_book['Area']=area\n",
    "    else :\n",
    "        content_book['Area']=None\n",
    "    tematica=te\n",
    "    if tematica:\n",
    "        content_book['Tematica']=tematica\n",
    "    else :\n",
    "        content_book['Tematica']=None\n",
    "    #titulo del libro\n",
    "    try:\n",
    "        titulo=s_item.find('div', class_='elsevierItemTitulo').get_text(strip=True)\n",
    "        content_book['Titulo Articulo']=titulo\n",
    "    except AttributeError:\n",
    "        content_book['Titulo Articulo']=None\n",
    "    try:\n",
    "        des=s_item.find('div', id='resumen_es').get_text(strip=True)\n",
    "        content_book['Resumen']=des.replace(\"Resumen\",\"\")\n",
    "    except AttributeError:\n",
    "        content_book['Resumen']=None\n",
    "    try:\n",
    "        de=s_item.find('div', id='resumen_en').get_text(strip=True)\n",
    "        content_book['Abstract']=de.replace(\"Abstract\",\"\")\n",
    "    except AttributeError:\n",
    "        content_book['Abstract']=None\n",
    "    try:\n",
    "        urlA=url\n",
    "        content_book['Link Articulo']=urlA#join(url_root,urlA)\n",
    "    except AttributeError:\n",
    "        content_book['Link Articulo']=None\n",
    "        #obtener link PDF\n",
    "    try:\n",
    "        ancla_link=s_item.find('div', class_='item-anchors desktop').find('a').get('href')#.find('div', class_='opcion imprimir')\n",
    "        content_book['Link PDF']=urljoin(url_root,ancla_link)#.find_next_sibling('a').get('href')\n",
    "    except AttributeError:\n",
    "        content_book['Link PDF']=None\n",
    "    return content_book"
   ]
  },
  {
   "cell_type": "code",
   "execution_count": null,
   "id": "faab5d2d-bb26-4d71-81f1-74a63798731b",
   "metadata": {},
   "outputs": [],
   "source": [
    "#El ciclo hace un scrapeo de la cada uno de los articulos.\n",
    "list_scraper=list_scraper[0:33]\n",
    "datos_book=[]\n",
    "for idx, i in enumerate(list_scraper):\n",
    "    print(f'estas escrapeando la pag {idx}')\n",
    "    datos_book.append(scraper_book(i))"
   ]
  },
  {
   "cell_type": "code",
   "execution_count": null,
   "id": "484098ca-6863-4988-8d5f-45ddd17ce905",
   "metadata": {},
   "outputs": [],
   "source": [
    "#En listado de datos_book que se obtuvo, se guarada en una variable\n",
    "#y dicha variable que conteien la imformacion se convierte en un DataFrame.\n",
    "df_catalogo=pd.DataFrame(datos_book)\n",
    "df_catalogo"
   ]
  },
  {
   "cell_type": "code",
   "execution_count": null,
   "id": "cde72d0f-9147-4c46-ae68-6d1e0514fa28",
   "metadata": {},
   "outputs": [],
   "source": [
    "#En el caso de esta revista solo de deseaba obtener los articulos,por lo cual\n",
    "#en algunas ocaciones se obtenia cosa diferntes, por lo cual esta funcion lo que hace es \n",
    "#eliminar mediante el Tiitulo Articulo lo que no se desea.\n",
    "df=df_catalogo[~ df_catalogo[\"Titulo Articulo\"].isin([\"Presentación\",\"Editorial\",\"Autores\",\"Introducción\",\"Corrigenda\",\"Comentario\",\"Revista completa\",\"Preliminares\",\"Portada e índice\",\"RESEÑAS\",\"indice\",\"In memoriam\",\"Resumen\",\"RESUMENES\",\"Horizontes\",\"ACERCA DE LOS AUTORES\",\"In Memoriam\",\"Complate journal\",\"Preliminary\",\"Preliminaries\",\"Complete Journal\",\"NOVEDADES EDITORIALES\",\"Autores\",\"Fondo Greimas\",\"Resúmenes\",\"Índice\",\"-\",\"Anticipos y deudas\",\"EDITORIAL\",\"Reseñas\",\"Acerca de los autores\",\"Acerca de Autores\",\"Acerca de los Autores\",\"ÍNDICE\",\"RESÚMENES\",\"Preface\",None,\"In Reply\",\"Yellow Fever\",\"News\",\"Hepatology highlights\",\"An Acknowledgement\",\"Hepatology Highlights\",\"Acute Liver Failure\",\"From the editor\",\"An Acknowledgment\",\"The rolling stone\",\"Letter to the Editor\",\"Editor’s Report\",\"A warm welcome\"])]\n",
    "df"
   ]
  },
  {
   "cell_type": "code",
   "execution_count": null,
   "id": "ac85f5a7-451e-43d1-b8db-23d805ccb8ad",
   "metadata": {},
   "outputs": [],
   "source": [
    "#La imformacion conseguda se pasa a un CSV.\n",
    "df.to_csv('Revista002.20.csv', index=False)"
   ]
  },
  {
   "cell_type": "markdown",
   "id": "31a4f3d8-8db1-496e-ad66-da0fd3b5dce5",
   "metadata": {},
   "source": [
    "Final del Código"
   ]
  }
 ],
 "metadata": {
  "kernelspec": {
   "display_name": "Python 3 (ipykernel)",
   "language": "python",
   "name": "python3"
  },
  "language_info": {
   "codemirror_mode": {
    "name": "ipython",
    "version": 3
   },
   "file_extension": ".py",
   "mimetype": "text/x-python",
   "name": "python",
   "nbconvert_exporter": "python",
   "pygments_lexer": "ipython3",
   "version": "3.10.4"
  }
 },
 "nbformat": 4,
 "nbformat_minor": 5
}
