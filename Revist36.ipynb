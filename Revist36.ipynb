{
 "cells": [
  {
   "cell_type": "code",
   "execution_count": null,
   "id": "cc3ad12e-90cd-4ae7-8048-f18df8af3749",
   "metadata": {
    "tags": []
   },
   "outputs": [],
   "source": [
    "import requests\n",
    "import bs4\n",
    "from bs4 import BeautifulSoup\n",
    "from urllib.parse import urljoin\n",
    "import pandas as pd"
   ]
  },
  {
   "cell_type": "code",
   "execution_count": null,
   "id": "b1f509dc-c936-46b9-b7d9-a22536a71c19",
   "metadata": {},
   "outputs": [],
   "source": [
    "url_inicial='https://www.elsevier.es/es-revista-archivos-cardiologia-mexico-293'\n",
    "url_root= 'https://www.elsevier.es/es-revista-archivos-cardiologia-mexico-293'\n",
    "r = requests.get(url_inicial)"
   ]
  },
  {
   "cell_type": "code",
   "execution_count": null,
   "id": "ff17b068-95be-48cf-a59c-a0a3406eda81",
   "metadata": {},
   "outputs": [],
   "source": [
    "soup = BeautifulSoup(r.text, 'html.parser')"
   ]
  },
  {
   "cell_type": "code",
   "execution_count": null,
   "id": "a2f28709-fb33-4062-9414-fa5990d3fec5",
   "metadata": {},
   "outputs": [],
   "source": [
    "box = soup.find('div', class_='items')"
   ]
  },
  {
   "cell_type": "code",
   "execution_count": null,
   "id": "d7d70990-53a8-4f6c-ab0f-44c2f104c17b",
   "metadata": {},
   "outputs": [],
   "source": [
    "volumen = box.findAll('div', class_='item')"
   ]
  },
  {
   "cell_type": "code",
   "execution_count": null,
   "id": "7e6478db-92b4-4be9-aec9-5debf2d9b93a",
   "metadata": {},
   "outputs": [],
   "source": [
    "vol = [x.find('a').get('href')for x in volumen]\n",
    "vol=[urljoin(url_root,i) for i in vol]\n",
    "vol"
   ]
  },
  {
   "cell_type": "code",
   "execution_count": null,
   "id": "3d62970a-6f85-4d6b-8753-862ea551ba98",
   "metadata": {},
   "outputs": [],
   "source": [
    "def get_url_items(sopa, url): \n",
    "    box = soup.find('div', class_='items')\n",
    "    volumen = box.findAll('div', class_='item')\n",
    "    vol = [x.find('a').get('href')for x in volumen]\n",
    "    vol=[urljoin(url_root,i) for i in vol]\n",
    "    return vol"
   ]
  },
  {
   "cell_type": "code",
   "execution_count": null,
   "id": "37e9a96e-7603-4edc-9b44-16d0120a89c8",
   "metadata": {},
   "outputs": [],
   "source": [
    "\n",
    "links_items=[]\n",
    "i=0\n",
    "while i<1:\n",
    "    i+=1\n",
    "    print(f'Estoy en la pagina {url_inicial}')\n",
    "    r_pag=requests.get(url_inicial)\n",
    "    s_p=BeautifulSoup(r_pag.text,'html.parser')\n",
    "    links=get_url_items(s_p, url_inicial)\n",
    "    links_items.append(links) \n",
    "    next_a=s_p.select('li.next > a')\n",
    "    if not next_a or not next_a[0].get('href'):\n",
    "        break\n",
    "    url_inicial = urljoin(url_inicial, next_a[0].get('href'))"
   ]
  },
  {
   "cell_type": "code",
   "execution_count": null,
   "id": "99bfef8b-b636-405e-add3-8f7d29936db9",
   "metadata": {},
   "outputs": [],
   "source": [
    "list_scraper=[]\n",
    "for i in links_items:\n",
    "    for j in i:\n",
    "        list_scraper.append(j)\n",
    "len(list_scraper)"
   ]
  },
  {
   "cell_type": "code",
   "execution_count": null,
   "id": "490e44d0-67b8-4167-8c18-96306ac31e6a",
   "metadata": {},
   "outputs": [],
   "source": [
    "uno=list_scraper[0]\n",
    "r_item=requests.get(uno)\n",
    "s_item=BeautifulSoup(r_item.text, 'html.parser')"
   ]
  },
  {
   "cell_type": "code",
   "execution_count": null,
   "id": "178b971f-2968-4152-9c9f-c24b2f495bc3",
   "metadata": {
    "tags": []
   },
   "outputs": [],
   "source": [
    "def scraper_book(url):\n",
    "    content_book={}\n",
    "    r=requests.get(url)\n",
    "    tr='Archivos de Cardiología de México'\n",
    "    a='III. Medicina y Ciencias de la Salud'\n",
    "    te='Cardiología'\n",
    "    ul='http://www.elsevier.es/es-revista-archivos-cardiologia-mexico-293'\n",
    "    s_item=BeautifulSoup(r.text,'html.parser')\n",
    "    tituloR=tr\n",
    "    if tituloR:\n",
    "        content_book['Titulo Revista']=tituloR\n",
    "    else :\n",
    "        content_book['Titulo Revista']=None\n",
    "    area=a\n",
    "    if area:\n",
    "        content_book['Area']=area\n",
    "    else :\n",
    "        content_book['Area']=None\n",
    "    tematica=te\n",
    "    if tematica:\n",
    "        content_book['Tematica']=tematica\n",
    "    else :\n",
    "        content_book['Tematica']=None\n",
    "    #titulo del libro\n",
    "    titulo=s_item.find('div', class_='elsevierItemTitulo').get_text(strip=True)\n",
    "    if titulo:\n",
    "        content_book['Titulo Articulo']=titulo\n",
    "    else :\n",
    "        content_book['Titulo Articulo']=None\n",
    "    #obtener descripción\n",
    "    des=s_item.find('span', id='sect0010')\n",
    "    if des:\n",
    "        content_book['Resumen']=des.find_next_sibling('p').get_text(strip=True)\n",
    "    else :\n",
    "        content_book['Resumen']=None\n",
    "    urlI=ul\n",
    "    if urlI:\n",
    "        content_book['Url Inicial']= urlI\n",
    "    else :\n",
    "        content_book['Url Inicial']=None\n",
    "        #obtener link PDF\n",
    "    ancla_link=s_item.find('div', class_='item-anchors desktop').find('a').get('href')\n",
    "    if  ancla_link:\n",
    "        content_book['Link Articulo']=urljoin(url_root,ancla_link)\n",
    "    else :\n",
    "        content_book['Link Articulo']=None\n",
    "    return content_book"
   ]
  },
  {
   "cell_type": "code",
   "execution_count": null,
   "id": "e9b81778-d36f-42ef-a967-acb4017047b1",
   "metadata": {
    "tags": []
   },
   "outputs": [],
   "source": [
    "list_scraper=list_scraper[0:32]\n",
    "datos_book=[]\n",
    "for idx, i in enumerate(list_scraper):\n",
    "    print(f'estas escrapeando la pag {idx}')\n",
    "    datos_book.append(scraper_book(i))"
   ]
  },
  {
   "cell_type": "code",
   "execution_count": null,
   "id": "0e8134dd-a6cd-4127-8b76-19fd0742dcaf",
   "metadata": {},
   "outputs": [],
   "source": [
    "df_catalogo=pd.DataFrame(datos_book)\n",
    "df_catalogo"
   ]
  },
  {
   "cell_type": "code",
   "execution_count": null,
   "id": "affffd12-40b9-4ac0-85e6-569eb3dd11d4",
   "metadata": {},
   "outputs": [],
   "source": [
    "df_catalogo.to_csv('Revist36.csv', index=False)"
   ]
  },
  {
   "cell_type": "code",
   "execution_count": null,
   "id": "0d9f9e8f-8f49-46d3-a40b-9b27f2bb7439",
   "metadata": {},
   "outputs": [],
   "source": []
  }
 ],
 "metadata": {
  "kernelspec": {
   "display_name": "Python 3 (ipykernel)",
   "language": "python",
   "name": "python3"
  },
  "language_info": {
   "codemirror_mode": {
    "name": "ipython",
    "version": 3
   },
   "file_extension": ".py",
   "mimetype": "text/x-python",
   "name": "python",
   "nbconvert_exporter": "python",
   "pygments_lexer": "ipython3",
   "version": "3.10.4"
  }
 },
 "nbformat": 4,
 "nbformat_minor": 5
}
