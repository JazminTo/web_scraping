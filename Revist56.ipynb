{
 "cells": [
  {
   "cell_type": "code",
   "execution_count": null,
   "id": "471acd52-36d5-429c-95c8-dfbe971cc1d6",
   "metadata": {},
   "outputs": [],
   "source": [
    "import requests\n",
    "import bs4\n",
    "from bs4 import BeautifulSoup\n",
    "from urllib.parse import urljoin\n",
    "import pandas as pd"
   ]
  },
  {
   "cell_type": "code",
   "execution_count": null,
   "id": "8ff3cf13-4637-47c7-ab82-6a685e3ee8be",
   "metadata": {},
   "outputs": [],
   "source": [
    "url_inicial='https://veterinariamexico.fmvz.unam.mx/index.php/vet/issue/archive/4'\n",
    "url_root= 'https://veterinariamexico.fmvz.unam.mx/index.php/vet/issue/archive/4'\n",
    "r = requests.get(url_inicial)"
   ]
  },
  {
   "cell_type": "code",
   "execution_count": null,
   "id": "e985ce2e-a96a-45e2-ad34-faafc35790b1",
   "metadata": {},
   "outputs": [],
   "source": [
    "soup = BeautifulSoup(r.text, 'html.parser')"
   ]
  },
  {
   "cell_type": "code",
   "execution_count": null,
   "id": "3cfb2d66-08c7-4c4b-b27e-8f69379a96c4",
   "metadata": {},
   "outputs": [],
   "source": [
    "box = soup.find('div', class_='issues media-list')\n",
    "volu=box.findAll('div', class_='media-left')\n",
    "vol = [x.find('a').get('href')for x in volu]\n",
    "#vol=[urljoin(url_root,i) for i in vol]\n",
    "vol"
   ]
  },
  {
   "cell_type": "code",
   "execution_count": null,
   "id": "ea6f57fd-9e61-445b-9fa5-98f5bf1b3996",
   "metadata": {},
   "outputs": [],
   "source": [
    "def get_url_items(sopa, url): \n",
    "    box = soup.find('div', class_='issues media-list')\n",
    "    volu=box.findAll('div', class_='media-left')\n",
    "    vol = [x.find('a').get('href')for x in volu]\n",
    "    vol=[urljoin(url_root,i) for i in vol]\n",
    "    return vol"
   ]
  },
  {
   "cell_type": "code",
   "execution_count": null,
   "id": "98bf1d1b-2f0d-4069-9f1b-6028adbb9c25",
   "metadata": {},
   "outputs": [],
   "source": [
    "links_items=[]\n",
    "i=0\n",
    "while i<1:\n",
    "    i+=1\n",
    "    print(f'Estoy en la pagina {url_inicial}')\n",
    "    r_pag=requests.get(url_inicial)\n",
    "    s_p=BeautifulSoup(r_pag.text,'html.parser')\n",
    "    links=get_url_items(s_p, url_inicial)\n",
    "    links_items.append(links) \n",
    "    next_a=s_p.select('li.next > a')\n",
    "    if not next_a or not next_a[0].get('href'):\n",
    "        break\n",
    "    url_inicial = urljoin(url_inicial, next_a[0].get('href'))"
   ]
  },
  {
   "cell_type": "code",
   "execution_count": null,
   "id": "d372974f-9707-4b07-a227-ec55dc8df467",
   "metadata": {},
   "outputs": [],
   "source": [
    "list_scraper=[]\n",
    "for i in links_items:\n",
    "    for j in i:\n",
    "        list_scraper.append(j)\n",
    "len(list_scraper)"
   ]
  },
  {
   "cell_type": "code",
   "execution_count": null,
   "id": "50d15d8b-8a30-425c-8111-9e4b6aa67798",
   "metadata": {},
   "outputs": [],
   "source": [
    "uno=list_scraper[0]\n",
    "r_item=requests.get(uno)\n",
    "s_item=BeautifulSoup(r_item.text, 'html.parser')"
   ]
  },
  {
   "cell_type": "code",
   "execution_count": null,
   "id": "03f71aef-5f01-4fe6-bd26-f57e3985c29f",
   "metadata": {},
   "outputs": [],
   "source": [
    "def scraper_book(url):\n",
    "    content_book={}\n",
    "    r=requests.get(url)\n",
    "    tr='Revista Mexicana de Anestesiología'\n",
    "    a='III. Medicina y Ciencias de la Salud'\n",
    "    te='Anestesiología'\n",
    "    ul='http://comexane.org/mx/'\n",
    "    s_item=BeautifulSoup(r.text,'html.parser')\n",
    "    tituloR=tr\n",
    "    if tituloR:\n",
    "        content_book['Titulo Revista']=tituloR\n",
    "    else :\n",
    "        content_book['Titulo Revista']=None\n",
    "    area=a\n",
    "    if area:\n",
    "        content_book['Area']=area\n",
    "    else :\n",
    "        content_book['Area']=None\n",
    "    tematica=te\n",
    "    if tematica:\n",
    "        content_book['Tematica']=tematica\n",
    "    else :\n",
    "        content_book['Tematica']=None\n",
    "    #titulo del libro\n",
    "    try:\n",
    "        titulo=s_item.find('h3', class_='media-heading').find('a').get_text(strip=True)\n",
    "        content_book['Titulo Articulo']=titulo\n",
    "    except AttributeError:\n",
    "        content_book['Titulo Articulo']=None\n",
    "    try:\n",
    "        des=s_item.find('div', class_='panel-body').get_text(strip=True)\n",
    "        content_book['Resumen']=des\n",
    "    except AttributeError:\n",
    "        content_book['Resumen']=None\n",
    "    urlI=ul\n",
    "    if urlI:\n",
    "        content_book['Url Inicial']= urlI\n",
    "    else :\n",
    "        content_book['Url Inicial']=None\n",
    "        #obtener link PDF\n",
    "    try:\n",
    "        ancla_link=s_item.find('div', class_='btn-group').find('a').get('href')\n",
    "        content_book['Link Articulo']=urljoin(url_root,ancla_link)\n",
    "    except AttributeError:\n",
    "        content_book['Link Articulo']=None\n",
    "    return content_book"
   ]
  },
  {
   "cell_type": "code",
   "execution_count": null,
   "id": "cb0356ad-0000-465a-8c29-df06fdbe16bf",
   "metadata": {},
   "outputs": [],
   "source": [
    "list_scraper=list_scraper[0:6]\n",
    "datos_book=[]\n",
    "for idx, i in enumerate(list_scraper):\n",
    "    print(f'estas escrapeando la pag {idx}')\n",
    "    datos_book.append(scraper_book(i))"
   ]
  },
  {
   "cell_type": "code",
   "execution_count": null,
   "id": "efc25bd2-78dc-4158-bf29-ef30d17dee77",
   "metadata": {},
   "outputs": [],
   "source": [
    "df_catalogo=pd.DataFrame(datos_book)\n",
    "df_catalogo"
   ]
  },
  {
   "cell_type": "code",
   "execution_count": null,
   "id": "78615a65-2d2a-4364-9b44-b004d16097c3",
   "metadata": {},
   "outputs": [],
   "source": [
    "df_catalogo.to_csv('Revist56.3.csv', index=False)"
   ]
  },
  {
   "cell_type": "code",
   "execution_count": null,
   "id": "ebd1aa1d-6080-4d58-8ea4-36f77d7cc83b",
   "metadata": {},
   "outputs": [],
   "source": []
  }
 ],
 "metadata": {
  "kernelspec": {
   "display_name": "Python 3 (ipykernel)",
   "language": "python",
   "name": "python3"
  },
  "language_info": {
   "codemirror_mode": {
    "name": "ipython",
    "version": 3
   },
   "file_extension": ".py",
   "mimetype": "text/x-python",
   "name": "python",
   "nbconvert_exporter": "python",
   "pygments_lexer": "ipython3",
   "version": "3.10.4"
  }
 },
 "nbformat": 4,
 "nbformat_minor": 5
}
