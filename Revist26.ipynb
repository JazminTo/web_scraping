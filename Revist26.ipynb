{
 "cells": [
  {
   "cell_type": "code",
   "execution_count": null,
   "id": "54bc3a47-65c5-4709-b74a-c996504f6359",
   "metadata": {},
   "outputs": [],
   "source": [
    "import requests\n",
    "import bs4\n",
    "from bs4 import BeautifulSoup\n",
    "from urllib.parse import urljoin\n",
    "import pandas as pd"
   ]
  },
  {
   "cell_type": "code",
   "execution_count": null,
   "id": "08db7730-b60c-4f7a-93bf-c9c159eb325f",
   "metadata": {},
   "outputs": [],
   "source": [
    "url_inicial= 'https://convergencia.uaemex.mx/issue/archive'\n",
    "url_root='https://convergencia.uaemex.mx/issue/archive'\n",
    "r=requests.get(url_inicial)"
   ]
  },
  {
   "cell_type": "code",
   "execution_count": null,
   "id": "98737d37-9192-4cc0-9716-eb29a233fc01",
   "metadata": {},
   "outputs": [],
   "source": [
    "s=BeautifulSoup(r.text, 'html.parser')"
   ]
  },
  {
   "cell_type": "code",
   "execution_count": null,
   "id": "c70c1bbe-8858-4d60-bc91-1a19a16826d7",
   "metadata": {},
   "outputs": [],
   "source": [
    "lista = s.find('div', class_='issues media-list')"
   ]
  },
  {
   "cell_type": "code",
   "execution_count": null,
   "id": "ecc52762-55b7-4f48-92c9-dfef9b9353c4",
   "metadata": {},
   "outputs": [],
   "source": [
    "v = lista.findAll('h2', class_='media-heading')"
   ]
  },
  {
   "cell_type": "code",
   "execution_count": null,
   "id": "6bfa89a2-ec12-4d77-ba48-a82b73508d33",
   "metadata": {},
   "outputs": [],
   "source": [
    "vol = [x.find('a').get('href')for x in v]\n",
    "vol"
   ]
  },
  {
   "cell_type": "code",
   "execution_count": null,
   "id": "1c363144-962d-486c-9184-73b0d5596384",
   "metadata": {},
   "outputs": [],
   "source": [
    "def get_url_items(sopa, url): \n",
    "    lista=s.find('div', class_='issues media-list')\n",
    "    v = lista.findAll('h2', class_='media-heading')\n",
    "    links_libros=[x.find('a').get('href')for x in v]\n",
    "    links_libros=[urljoin(url,i) for i in links_libros]\n",
    "    return links_libros"
   ]
  },
  {
   "cell_type": "code",
   "execution_count": null,
   "id": "df41eee3-6ae5-41f7-9444-8211f0938826",
   "metadata": {},
   "outputs": [],
   "source": [
    "links_items=[]\n",
    "i=0\n",
    "while i<1:\n",
    "    i+=1\n",
    "    print(f'Estoy en la pagina {url_inicial}')\n",
    "    r_pag=requests.get(url_inicial)\n",
    "    s_p=BeautifulSoup(r_pag.text,'html.parser')\n",
    "    links=get_url_items(s_p, url_inicial)\n",
    "    links_items.append(links) \n",
    "    next_a=s_p.select('ul.pagination > a')\n",
    "    if not next_a or not next_a[0].get('href'):\n",
    "        break\n",
    "    url_inicial = urljoin(url_inicial, next_a[0].get('href'))"
   ]
  },
  {
   "cell_type": "code",
   "execution_count": null,
   "id": "4eb9064d-d4aa-45c5-a22e-9cafc2b87bdc",
   "metadata": {},
   "outputs": [],
   "source": [
    "list_scraper=[]\n",
    "for i in links_items:\n",
    "    for j in i:\n",
    "        list_scraper.append(j)\n",
    "len(list_scraper)"
   ]
  },
  {
   "cell_type": "code",
   "execution_count": null,
   "id": "3e290b4c-9b82-4840-a70f-f7a680882d46",
   "metadata": {},
   "outputs": [],
   "source": [
    "uno=list_scraper[0]\n",
    "r_item=requests.get(uno)\n",
    "s_item=BeautifulSoup(r_item.text, 'html.parser')"
   ]
  },
  {
   "cell_type": "code",
   "execution_count": null,
   "id": "ac695691-5d6e-4374-ab67-850749598e83",
   "metadata": {},
   "outputs": [],
   "source": [
    "def scraper_book(url):\n",
    "    content_book={}\n",
    "    r=requests.get(url)\n",
    "    tr='Convergencia Revista de Ciencias Sociales'\n",
    "    a='V. Ciencias Sociales'\n",
    "    te='Sociología, Comunicación, Ciencia Política y Administración Pública'\n",
    "    ul='http://convergencia.uaemex.mx'\n",
    "    s_item=BeautifulSoup(r.text,'html.parser')\n",
    "    tituloR=tr\n",
    "    if tituloR:\n",
    "        content_book['Titulo Revista']=tituloR\n",
    "    else :\n",
    "        content_book['Titulo Revista']=None\n",
    "    area=a\n",
    "    if area:\n",
    "        content_book['Area']=area\n",
    "    else :\n",
    "        content_book['Area']=None\n",
    "    tematica=te\n",
    "    if tematica:\n",
    "        content_book['Tematica']=tematica\n",
    "    else :\n",
    "        content_book['Tematica']=None\n",
    "    #titulo del libro\n",
    "    titulo=s_item.find('h3', class_='media-heading').get_text(strip=True)\n",
    "    if titulo:\n",
    "        content_book['Titulo Articulo']=titulo\n",
    "    else :\n",
    "        content_book['Titulo Articulo']=None\n",
    "    try:\n",
    "        autor=s_item.find('div', class_='panel-body').get_text(strip=True)\n",
    "        content_book['Resumen']=autor\n",
    "    except AttributeError:\n",
    "        content_book['Resumen']=None\n",
    "    urlI=ul\n",
    "    if urlI:\n",
    "        content_book['Url Inicial']= urlI\n",
    "    else :\n",
    "        content_book['Url Inicial']=None\n",
    "        #obtener link PDF\n",
    "    try:\n",
    "        ancla_link=s_item.find('div', class_='col-xs-3 col-sm-12 col-md-12').find('a').get('href')\n",
    "        content_book['Link Articulos']=urljoin(url_root,ancla_link)\n",
    "    except AttributeError:\n",
    "        content_book['Links Articulos']=None\n",
    "    return content_book"
   ]
  },
  {
   "cell_type": "code",
   "execution_count": null,
   "id": "af72f902-5640-436b-93bd-ccd36cac508f",
   "metadata": {},
   "outputs": [],
   "source": [
    "list_scraper=list_scraper[0:12]\n",
    "datos_book=[]\n",
    "for idx, i in enumerate(list_scraper):\n",
    "    print(f'estas escrapeando la pag {idx}')\n",
    "    datos_book.append(scraper_book(i))"
   ]
  },
  {
   "cell_type": "code",
   "execution_count": null,
   "id": "87aa1edc-285f-409c-a579-5084c7f6787c",
   "metadata": {},
   "outputs": [],
   "source": [
    "df_catalogo=pd.DataFrame(datos_book)\n",
    "df_catalogo"
   ]
  },
  {
   "cell_type": "code",
   "execution_count": null,
   "id": "082084ac-adc9-4278-b0a1-31e65706371e",
   "metadata": {},
   "outputs": [],
   "source": [
    "df_catalogo.to_csv('Revist26.csv', index=False)"
   ]
  },
  {
   "cell_type": "code",
   "execution_count": null,
   "id": "f17b37c0-925b-4efb-951a-60ff0cada498",
   "metadata": {},
   "outputs": [],
   "source": []
  }
 ],
 "metadata": {
  "kernelspec": {
   "display_name": "Python 3 (ipykernel)",
   "language": "python",
   "name": "python3"
  },
  "language_info": {
   "codemirror_mode": {
    "name": "ipython",
    "version": 3
   },
   "file_extension": ".py",
   "mimetype": "text/x-python",
   "name": "python",
   "nbconvert_exporter": "python",
   "pygments_lexer": "ipython3",
   "version": "3.10.4"
  }
 },
 "nbformat": 4,
 "nbformat_minor": 5
}
