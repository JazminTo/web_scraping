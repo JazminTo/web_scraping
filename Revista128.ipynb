{
 "cells": [
  {
   "cell_type": "markdown",
   "id": "bc01f2e0-842a-4db0-bd9d-ecb9bcb3a343",
   "metadata": {},
   "source": [
    "# WEB SCRAPING\n",
    "  \n",
    "Es una técnica para extraer y almacenar datos de una o varias páginas web con el fin de analizarlos o manipularlos en otros medios, para la cual se utilizan bots para extraer los datos y contenidos de las webs. \n",
    "\n",
    "### Importación de librerías.\n",
    "\n",
    "* Requests realiza la petición al servidor.\n",
    "\n",
    "* BeautifulSoup analizar documentos HTML.\n",
    "\n",
    "* Pandas podemos representar datos tabulares con columnas con etiquetas y filas y series temporales."
   ]
  },
  {
   "cell_type": "code",
   "execution_count": null,
   "id": "77dc486c-ddfa-4bc7-aaee-93f08383ac4c",
   "metadata": {},
   "outputs": [],
   "source": [
    "import requests\n",
    "import bs4\n",
    "from bs4 import BeautifulSoup\n",
    "from urllib.parse import urljoin\n",
    "import pandas as pd"
   ]
  },
  {
   "cell_type": "markdown",
   "id": "554ab689-ce0f-4f1a-8212-80bb30e8a601",
   "metadata": {},
   "source": [
    "Se realiza un request de la url_inicial de la revista, url_root nos ayuda a genera un url completa a partir de la url raíz para esto se utiliza la librería urljoin.\n",
    "\n",
    "La revista que se está scrapendo es la siguiente https://www.actauniversitaria.ugto.mx/index.php/acta/issue/view/116"
   ]
  },
  {
   "cell_type": "code",
   "execution_count": null,
   "id": "271ff3a2-937e-4889-9645-65e655ea113d",
   "metadata": {},
   "outputs": [],
   "source": [
    "url_inicial='https://www.actauniversitaria.ugto.mx/index.php/acta/issue/archive/6'\n",
    "url_root= 'https://www.actauniversitaria.ugto.mx/index.php/acta/issue/archive/6'\n",
    "r = requests.get(url_inicial)"
   ]
  },
  {
   "cell_type": "code",
   "execution_count": null,
   "id": "7838ee23-fff1-40b8-9308-0052de36bea4",
   "metadata": {},
   "outputs": [],
   "source": [
    "soup = BeautifulSoup(r.text, 'html.parser')"
   ]
  },
  {
   "cell_type": "markdown",
   "id": "4f334b10-a612-4e1e-ab11-1caff68c79ec",
   "metadata": {},
   "source": [
    "### Obtención de los primeros volúmenes.\n",
    "\n",
    "Se realiza la búsqueda para obtener los urls de cada uno de los volúmenes o archivos de la revista."
   ]
  },
  {
   "cell_type": "code",
   "execution_count": null,
   "id": "092ca356-8288-4663-b44a-198f75730b23",
   "metadata": {},
   "outputs": [],
   "source": [
    "box = soup.find('div', class_='container page-archives')\n",
    "volu=box.findAll('h2', class_='card-title issue-summary-series')\n",
    "vol = [x.find('a').get('href')for x in volu]\n",
    "vol"
   ]
  },
  {
   "cell_type": "markdown",
   "id": "c47d05e4-a6d7-4451-b538-aabf94b1d90d",
   "metadata": {},
   "source": [
    "### Obtención de los segundos urls.\n",
    "\n",
    "Se realiza una lista en la que la variable *vol* que contiene las urls de cada uno de los volúmenes publicados de la revista, con estos urls obtenidos,  con la variable *vol* se implementa un ciclo en el cual se utiliza la variable *vol2* de la cual se van acumulando las siguientes urls."
   ]
  },
  {
   "cell_type": "code",
   "execution_count": null,
   "id": "bc1b1ca2-3474-4f77-b185-7fdf5a64a70b",
   "metadata": {},
   "outputs": [],
   "source": [
    "vol2 =[]\n",
    "for i in vol: \n",
    "    url_inicial1=i \n",
    "    r1 = requests.get(url_inicial1)\n",
    "    soup1 = BeautifulSoup(r1.text, 'html.parser')\n",
    "    box1 = soup1.find('div', class_='issue-toc') \n",
    "    volumen1=box1.findAll('div', class_='article-summary')\n",
    "    vol1 = [x.find('a').get('href')for x in volumen1]\n",
    "    vol2+=vol1"
   ]
  },
  {
   "cell_type": "code",
   "execution_count": null,
   "id": "a2b75cbf-0100-4d0f-b014-9994667abf76",
   "metadata": {},
   "outputs": [],
   "source": [
    "vol2"
   ]
  },
  {
   "cell_type": "markdown",
   "id": "af587a69-5adc-4d5d-9a3a-b079a74f61c4",
   "metadata": {},
   "source": [
    "En esta función variable sopa se utiliza para tener las paginaciones de la revista y la variable url es guardan cada uno de url que ya se obtuvieron de *vol2*."
   ]
  },
  {
   "cell_type": "code",
   "execution_count": null,
   "id": "2e3f02c4-bb07-4469-884d-b18a03731435",
   "metadata": {},
   "outputs": [],
   "source": [
    "def get_url_items(sopa, url): \n",
    "    box1 = soup1.find('div', class_='issue-toc') \n",
    "    volumen1=box1.findAll('div', class_='article-summary')\n",
    "    vol1 = [x.find('a').get('href')for x in volumen1]\n",
    "    return vol2"
   ]
  },
  {
   "cell_type": "markdown",
   "id": "0be82158-9fa3-4ae4-8ab6-8b98bc7b7415",
   "metadata": {},
   "source": [
    "Ahora se va acumulando cada uno de los links e ir iterando en cada una de las páginas, para traer cada uno de los links que se van a ir scrapeando."
   ]
  },
  {
   "cell_type": "code",
   "execution_count": null,
   "id": "ca7e220e-e989-45e8-bfda-cb9628bbe96e",
   "metadata": {},
   "outputs": [],
   "source": [
    "links_items=[]\n",
    "i=0\n",
    "while i<1:\n",
    "    i+=1\n",
    "    print(f'Estoy en la pagina {url_inicial}')\n",
    "    r_pag=requests.get(url_inicial)\n",
    "    s_p=BeautifulSoup(r_pag.text,'html.parser')\n",
    "    links=get_url_items(s_p, url_inicial)\n",
    "    links_items.append(links) \n",
    "    next_a=s_p.select('li.next > a')\n",
    "    if not next_a or not next_a[0].get('href'):\n",
    "        break\n",
    "    url_inicial = urljoin(url_inicial, next_a[0].get('href'))"
   ]
  },
  {
   "cell_type": "markdown",
   "id": "43f5860f-81d2-48ea-a02c-05b24221f643",
   "metadata": {},
   "source": [
    "Obtiene el número de los artículos que se encontraron en los primeros volúmenes de la revista."
   ]
  },
  {
   "cell_type": "code",
   "execution_count": null,
   "id": "7ddd86cc-f929-43b6-9e43-0acffe3523b0",
   "metadata": {},
   "outputs": [],
   "source": [
    "list_scraper=[]\n",
    "for i in links_items:\n",
    "    for j in i:\n",
    "        list_scraper.append(j)\n",
    "len(list_scraper)"
   ]
  },
  {
   "cell_type": "markdown",
   "id": "a9897305-7d54-442c-b996-25beb16894b9",
   "metadata": {},
   "source": [
    "Toma uno a uno de los links donde se encuentra la información de cada artículo para Scrapearlos."
   ]
  },
  {
   "cell_type": "code",
   "execution_count": null,
   "id": "aa51d1cd-d1b2-4eb8-b4ee-4af7e33962ac",
   "metadata": {},
   "outputs": [],
   "source": [
    "uno=list_scraper[0]\n",
    "r_item=requests.get(uno)\n",
    "s_item=BeautifulSoup(r_item.text, 'html.parser')"
   ]
  },
  {
   "cell_type": "markdown",
   "id": "88806278-047f-478b-b330-ed3e2be4e42c",
   "metadata": {},
   "source": [
    "### Scrapeo de las urls de los ariculos.\n",
    "\n",
    "Mediante esta función revisa cada uno de los links de los artículos en los cuales se encuentra la información\n",
    "del artículo, por lo cual se aplican cada uno de los métodos, que nos van a obtener lo que estamos requiriendo de dicho artículo."
   ]
  },
  {
   "cell_type": "code",
   "execution_count": null,
   "id": "76185d1c-b777-4fd4-80c3-898c1be6ea9d",
   "metadata": {},
   "outputs": [],
   "source": [
    "def scraper_book(url):\n",
    "    content_book={}# diccionario que no va acumulando la imformacion que vamos poteniddo para el tada frame\n",
    "    r=requests.get(url)\n",
    "    tr='Acta Universitaria'\n",
    "    a='Multidisciplinaria'\n",
    "    te='Multidisciplinaria'\n",
    "    s_item=BeautifulSoup(r.text,'html.parser')\n",
    "    tituloR=tr\n",
    "    if tituloR:\n",
    "        content_book['Titulo Revista']=tituloR\n",
    "    else :\n",
    "        content_book['Titulo Revista']=None\n",
    "    area=a\n",
    "    if area:\n",
    "        content_book['Area']=area\n",
    "    else :\n",
    "        content_book['Area']=None\n",
    "    tematica=te\n",
    "    if tematica:\n",
    "        content_book['Tematica']=tematica\n",
    "    else :\n",
    "        content_book['Tematica']=None\n",
    "    #titulo del libro\n",
    "    try:\n",
    "        titulo=s_item.find('h1', class_='article-details-fulltitle').get_text(strip=True)\n",
    "        content_book['Titulo Articulo']=titulo\n",
    "    except AttributeError:\n",
    "        content_book['Titulo Articulo']=None\n",
    "    #obtencion de Resumen\n",
    "    try:\n",
    "        des=s_item.find('div', class_='article-details-block article-details-abstract').get_text(strip=True)\n",
    "        content_book['Resumen']=des.replace(\"Resumen\",\"\")\n",
    "    except AttributeError:\n",
    "        content_book['Resumen']=None\n",
    "    #obtencion de Abstract\n",
    "    try:\n",
    "        de=s_item.find('div', class_='panel-boody').get_text(strip=True)\n",
    "        content_book['Abstract']=de#.replace(\"Abstract\",\"\")\n",
    "    except AttributeError:\n",
    "        content_book['Abstract']=None\n",
    "    #obtener link Articulos con la url, donde se guarda lo href\n",
    "    #donde se encutran la informacion de los articulos.\n",
    "    try:\n",
    "        urlA=url\n",
    "        content_book['Link Articulo']=urlA\n",
    "    except AttributeError:\n",
    "        content_book['Link Articulo']=None\n",
    "    #obtener link PDF\n",
    "    try:\n",
    "        ancla_link=s_item.find('div', class_='article-details-galley').find('a').get('href')\n",
    "        content_book['Link PDF']=urljoin(url_root,ancla_link)\n",
    "    except AttributeError:\n",
    "        content_book['Link PDF']=None\n",
    "    return content_book"
   ]
  },
  {
   "cell_type": "markdown",
   "id": "8a6f7acf-b304-4886-be0a-08dd3e01846b",
   "metadata": {},
   "source": [
    "El list_scraper hace un scrapeo de la cada uno de los artículos, ya que en datos_book se acumuló la información obtenida de lo métodos anteriores."
   ]
  },
  {
   "cell_type": "code",
   "execution_count": null,
   "id": "b4978177-908f-48f4-864e-bf0617290560",
   "metadata": {},
   "outputs": [],
   "source": [
    "list_scraper=list_scraper[0:27]\n",
    "datos_book=[]\n",
    "for idx, i in enumerate(list_scraper):\n",
    "    print(f'estas escrapeando la pag {idx}')\n",
    "    datos_book.append(scraper_book(i))"
   ]
  },
  {
   "cell_type": "markdown",
   "id": "68db57d5-d04b-48d7-80f4-5a8cda6b244e",
   "metadata": {},
   "source": [
    "### Se obtiene la información requerida de los artículos.\n",
    "\n",
    "La variable **datos_book** es un listado en el que se recolecto la información requerida por lo cual\n",
    "se convierte en un **DataFrame**."
   ]
  },
  {
   "cell_type": "code",
   "execution_count": null,
   "id": "4f388361-77f2-47b3-a96d-9a47fdc8a507",
   "metadata": {},
   "outputs": [],
   "source": [
    "df_catalogo=pd.DataFrame(datos_book)\n",
    "df_catalogo"
   ]
  },
  {
   "cell_type": "markdown",
   "id": "6040a821-ae7f-4ece-9184-322fbf1b1aef",
   "metadata": {},
   "source": [
    "En el caso de esta revista solo de deseaba obtener los artículos, por lo cual\n",
    "en algunas ocasiones se obtienes cosas diferentes, para esto con la función isin lo que hace es \n",
    "eliminar mediante el **Titulo Articulo** los archivos que no se desean."
   ]
  },
  {
   "cell_type": "code",
   "execution_count": null,
   "id": "53e5911b-74d8-48d0-b939-ee959ff62b39",
   "metadata": {},
   "outputs": [],
   "source": [
    "df=df_catalogo[~ df_catalogo[\"Titulo Articulo\"].isin([\"Presentación\",\"Editorial\",\"Autores\",\"Introducción\",\"Corrigenda\",\"Comentario\",\"Revista completa\",\"Preliminares\",\"Portada e índice\",\"RESEÑAS\",\"indice\",\"In memoriam\",\"Resumen\",\"RESUMENES\",\"Horizontes\",\"ACERCA DE LOS AUTORES\",\"In Memoriam\",\"Complate journal\",\"Preliminary\",\"Preliminaries\",\"Complete Journal\",\"NOVEDADES EDITORIALES\",\"Autores\",\"Fondo Greimas\",\"Resúmenes\",\"Índice\",\"-\",\"Anticipos y deudas\",\"EDITORIAL\",\"Reseñas\",\"Acerca de los autores\",\"Acerca de Autores\",\"Acerca de los Autores\",\"ÍNDICE\",\"RESÚMENES\",\"Apocalipsis Nuclear\",\"Niels Bohr\",\"¿A Quién no le Ha Dado Fiebre?\"])]\n",
    "df"
   ]
  },
  {
   "cell_type": "markdown",
   "id": "27a065c1-9db7-496b-b339-fe6ba3b513aa",
   "metadata": {},
   "source": [
    "La información solicitada se pasa a un **CSV**."
   ]
  },
  {
   "cell_type": "code",
   "execution_count": null,
   "id": "249aa38d-d776-4f55-9cde-3ca123995758",
   "metadata": {},
   "outputs": [],
   "source": [
    "df.to_csv('Revista128.5.csv', index=False)"
   ]
  },
  {
   "cell_type": "markdown",
   "id": "95aca117-f2d2-4b4f-93c3-02c0a0492ca3",
   "metadata": {},
   "source": [
    "Final de Código"
   ]
  },
  {
   "cell_type": "code",
   "execution_count": null,
   "id": "3b78a2eb-f255-4699-949c-4a9e59888d27",
   "metadata": {},
   "outputs": [],
   "source": []
  }
 ],
 "metadata": {
  "kernelspec": {
   "display_name": "Python 3 (ipykernel)",
   "language": "python",
   "name": "python3"
  },
  "language_info": {
   "codemirror_mode": {
    "name": "ipython",
    "version": 3
   },
   "file_extension": ".py",
   "mimetype": "text/x-python",
   "name": "python",
   "nbconvert_exporter": "python",
   "pygments_lexer": "ipython3",
   "version": "3.10.4"
  }
 },
 "nbformat": 4,
 "nbformat_minor": 5
}
