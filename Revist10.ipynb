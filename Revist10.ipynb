{
 "cells": [
  {
   "cell_type": "code",
   "execution_count": null,
   "id": "30bcede4-3b63-4116-865c-e1ba4fa8b336",
   "metadata": {
    "scrolled": true,
    "tags": []
   },
   "outputs": [],
   "source": [
    "import requests\n",
    "import bs4\n",
    "from bs4 import BeautifulSoup\n",
    "from urllib.parse import urljoin\n",
    "import pandas as pd"
   ]
  },
  {
   "cell_type": "code",
   "execution_count": null,
   "id": "d93c67d9-8094-4245-89f9-b1db99ea72c5",
   "metadata": {},
   "outputs": [],
   "source": [
    "url_inicial= 'http://rev-ib.unam.mx/ib/index.php/ib/issue/archive/2010'\n",
    "url_root= 'http://rev-ib.unam.mx/ib/index.php/ib/issue/archive/2010'\n",
    "r=requests.get(url_inicial)"
   ]
  },
  {
   "cell_type": "code",
   "execution_count": null,
   "id": "4d46add4-fc2f-4b3a-a9ba-e4fdf7eeae7f",
   "metadata": {},
   "outputs": [],
   "source": [
    "s = BeautifulSoup(r.text, 'html.parser')"
   ]
  },
  {
   "cell_type": "code",
   "execution_count": null,
   "id": "1e72401f-8159-439c-b45c-92416f77e83a",
   "metadata": {},
   "outputs": [],
   "source": [
    "volumen= s.find('div', id='issues')\n",
    "v=volumen.findAll('div', id='issue-anterior')\n",
    "vol = [x.find('a').get('href')for x in v]\n",
    "vol"
   ]
  },
  {
   "cell_type": "code",
   "execution_count": null,
   "id": "ba93366f-af40-4678-8428-edc77b571fb6",
   "metadata": {},
   "outputs": [],
   "source": [
    "def get_url_items(sopa,url):\n",
    "    volumen= s.find('div', id='issues')\n",
    "    v=volumen.findAll('div', id='issue-anterior')\n",
    "    vol = [x.find('a').get('href')for x in v]\n",
    "    vol=[urljoin(url_root,i) for i in vol]\n",
    "    return vol"
   ]
  },
  {
   "cell_type": "code",
   "execution_count": null,
   "id": "ef9fcb37-4187-458a-8124-ed6d64554f93",
   "metadata": {},
   "outputs": [],
   "source": [
    "\n",
    "links_items=[]\n",
    "i=0\n",
    "while i<1:\n",
    "    i+=1\n",
    "    print(f'Estoy en la pagina {url_inicial}')\n",
    "    r_pag=requests.get(url_inicial)\n",
    "    s_p=BeautifulSoup(r_pag.text,'html.parser')\n",
    "    links=get_url_items(s_p, url_inicial)\n",
    "    links_items.append(links) \n",
    "    next_a=s_p.select('li.next > a')\n",
    "    if not next_a or not next_a[0].get('href'):\n",
    "        break\n",
    "    url_inicial = urljoin(url_inicial, next_a[0].get('href'))"
   ]
  },
  {
   "cell_type": "code",
   "execution_count": null,
   "id": "64ce4eff-f3df-4aab-a821-54e87d84fa79",
   "metadata": {},
   "outputs": [],
   "source": [
    "list_scraper=[]\n",
    "for i in links_items:\n",
    "    for j in i:\n",
    "        list_scraper.append(j)\n",
    "len(list_scraper)"
   ]
  },
  {
   "cell_type": "code",
   "execution_count": null,
   "id": "695ef8a4-b442-48d6-a16c-e160a4f21cf3",
   "metadata": {},
   "outputs": [],
   "source": [
    "uno=list_scraper[0]\n",
    "r_item=requests.get(uno)\n",
    "s_item=BeautifulSoup(r_item.text, 'html.parser')"
   ]
  },
  {
   "cell_type": "code",
   "execution_count": null,
   "id": "e1167398-bb9d-489e-9350-608029eefaf7",
   "metadata": {},
   "outputs": [],
   "source": [
    "def scraper_book(url):\n",
    "    content_book={}\n",
    "    r=requests.get(url)\n",
    "    tr='Investigación Bibliotecológica: Archivonomía, Bibliotecología e Información'\n",
    "    a='V. Ciencias Sociales'\n",
    "    te='Ciencias Bibliotecológica y de la Información'\n",
    "    ul='http://rev-ib.unam.mx/ib/'\n",
    "    s_item=BeautifulSoup(r.text,'html.parser')\n",
    "    \n",
    "    tituloR=tr\n",
    "    if tituloR:\n",
    "        content_book['Titulo Revista']=tituloR\n",
    "    else :\n",
    "        content_book['Titulo Revista']=None\n",
    "    area=a\n",
    "    if area:\n",
    "        content_book['Area']=area\n",
    "    else :\n",
    "        content_book['Area']=None\n",
    "    tematica=te\n",
    "    if tematica:\n",
    "        content_book['Tematica']=tematica\n",
    "    else :\n",
    "        content_book['Tematica']=None \n",
    "    #titulo del libro\n",
    "    titulo=s_item.find('div', class_='tocTitle').get_text(strip=True)\n",
    "    if titulo:\n",
    "        content_book['Titulo Articulo']=titulo\n",
    "    else :\n",
    "        content_book['Titulo Articulo']=None\n",
    "    try:\n",
    "        des=s_item.find('div', class_='panel-body').get_text(strip=True)\n",
    "        content_book['Resumen']=des\n",
    "    except AttributeError:\n",
    "        content_book['Resumen']=None\n",
    "    urlI=ul\n",
    "    if urlI:\n",
    "        content_book['Url Inicial']= urlI\n",
    "    else :\n",
    "        content_book['Url Inicial']=None \n",
    "        #obtener link PDF\n",
    "    ancla_link=s_item.find('div', class_='tocGalleys').find('a').get('href')\n",
    "    if  ancla_link:\n",
    "        content_book['Link Articulo']=ancla_link\n",
    "    else :\n",
    "        content_book['Link Articuloa']=None\n",
    "    return content_book"
   ]
  },
  {
   "cell_type": "code",
   "execution_count": null,
   "id": "60aafbad-e664-451f-8d28-ee6315ad05c6",
   "metadata": {},
   "outputs": [],
   "source": [
    "list_scraper=list_scraper[0:3]\n",
    "datos_book=[]\n",
    "for idx, i in enumerate(list_scraper):\n",
    "    print(f'estas escrapeando la pag {idx}')\n",
    "    datos_book.append(scraper_book(i))"
   ]
  },
  {
   "cell_type": "code",
   "execution_count": null,
   "id": "00408743-1672-481b-8290-1cce28175404",
   "metadata": {},
   "outputs": [],
   "source": [
    "df_catalogo=pd.DataFrame(datos_book)\n",
    "df_catalogo"
   ]
  },
  {
   "cell_type": "code",
   "execution_count": null,
   "id": "52ad9dec-3d3b-4486-908e-1bd3d994e558",
   "metadata": {},
   "outputs": [],
   "source": [
    "df_catalogo.to_csv('Revist10.12.csv', index=False)"
   ]
  }
 ],
 "metadata": {
  "kernelspec": {
   "display_name": "Python 3 (ipykernel)",
   "language": "python",
   "name": "python3"
  },
  "language_info": {
   "codemirror_mode": {
    "name": "ipython",
    "version": 3
   },
   "file_extension": ".py",
   "mimetype": "text/x-python",
   "name": "python",
   "nbconvert_exporter": "python",
   "pygments_lexer": "ipython3",
   "version": "3.10.4"
  }
 },
 "nbformat": 4,
 "nbformat_minor": 5
}
