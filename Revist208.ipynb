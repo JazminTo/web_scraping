{
 "cells": [
  {
   "cell_type": "code",
   "execution_count": null,
   "id": "bb7651f6-04d6-4c57-b216-414eb71159d9",
   "metadata": {},
   "outputs": [],
   "source": [
    "import requests\n",
    "import bs4\n",
    "from bs4 import BeautifulSoup\n",
    "from urllib.parse import urljoin\n",
    "import pandas as pd"
   ]
  },
  {
   "cell_type": "code",
   "execution_count": null,
   "id": "b3ffab7c-b684-42a5-8f40-f63d503d8e10",
   "metadata": {},
   "outputs": [],
   "source": [
    "url_inicial='https://revistasanidadmilitar.org/index.php/rsm/issue/archive/2'\n",
    "url_root= 'https://revistasanidadmilitar.org/index.php/rsm/issue/archive/2'\n",
    "r = requests.get(url_inicial)"
   ]
  },
  {
   "cell_type": "code",
   "execution_count": null,
   "id": "af3d35b6-6e68-4259-bf08-7b9fb27ec990",
   "metadata": {},
   "outputs": [],
   "source": [
    "soup = BeautifulSoup(r.text, 'html.parser')"
   ]
  },
  {
   "cell_type": "code",
   "execution_count": null,
   "id": "357ae8e2-73a9-4680-a543-af71feda751d",
   "metadata": {},
   "outputs": [],
   "source": [
    "box = soup.find('div', class_='issues media-list')\n",
    "volumen=box.findAll('h2', class_='media-heading')\n",
    "vol = [x.find('a').get('href')for x in volumen]\n",
    "#vol=[urljoin(url_root,i) for i in vol]\n",
    "vol"
   ]
  },
  {
   "cell_type": "code",
   "execution_count": null,
   "id": "0e766142-b391-4f7e-b265-9cfdaa378216",
   "metadata": {},
   "outputs": [],
   "source": [
    "def get_url_items(sopa, url): \n",
    "    box = soup.find('div', class_='issues media-list')\n",
    "    volumen=box.findAll('h2', class_='media-heading')\n",
    "    vol = [x.find('a').get('href')for x in volumen]\n",
    "    #vol=[urljoin(url_root,i) for i in vol]\n",
    "    return vol"
   ]
  },
  {
   "cell_type": "code",
   "execution_count": null,
   "id": "80665561-e973-48c8-ba44-abd2bf8671e6",
   "metadata": {},
   "outputs": [],
   "source": [
    "links_items=[]\n",
    "i=0\n",
    "while i<1:\n",
    "    i+=1\n",
    "    print(f'Estoy en la pagina {url_inicial}')\n",
    "    r_pag=requests.get(url_inicial)\n",
    "    s_p=BeautifulSoup(r_pag.text,'html.parser')\n",
    "    links=get_url_items(s_p, url_inicial)\n",
    "    links_items.append(links) \n",
    "    next_a=s_p.select('li.next > a')\n",
    "    if not next_a or not next_a[0].get('href'):\n",
    "        break\n",
    "    url_inicial = urljoin(url_inicial, next_a[0].get('href'))"
   ]
  },
  {
   "cell_type": "code",
   "execution_count": null,
   "id": "34e7fe8e-1059-4a7e-87d1-bb34842dec79",
   "metadata": {},
   "outputs": [],
   "source": [
    "list_scraper=[]\n",
    "for i in links_items:\n",
    "    for j in i:\n",
    "        list_scraper.append(j)\n",
    "len(list_scraper)"
   ]
  },
  {
   "cell_type": "code",
   "execution_count": null,
   "id": "b0b80d08-f497-4575-826a-6bc3daa500de",
   "metadata": {},
   "outputs": [],
   "source": [
    "uno=list_scraper[0]\n",
    "r_item=requests.get(uno)\n",
    "s_item=BeautifulSoup(r_item.text, 'html.parser')"
   ]
  },
  {
   "cell_type": "code",
   "execution_count": null,
   "id": "733ed1a2-fe42-4f8a-9d46-973f894d8430",
   "metadata": {},
   "outputs": [],
   "source": [
    "def scraper_book(url):\n",
    "    content_book={}\n",
    "    r=requests.get(url)\n",
    "    tr='Revista de Sanidad Militar'\n",
    "    a='III. Medicina y Ciencias de la Salud'\n",
    "    te='Investigación básica o clínica, Medicina, Enfermería Odontología'\n",
    "    ul='https://revistasanidadmilitar.org/index.php/rsm'\n",
    "    s_item=BeautifulSoup(r.text,'html.parser')\n",
    "    tituloR=tr\n",
    "    if tituloR:\n",
    "        content_book['Titulo Revista']=tituloR\n",
    "    else :\n",
    "        content_book['Titulo Revista']=None\n",
    "    area=a\n",
    "    if area:\n",
    "        content_book['Area']=area\n",
    "    else :\n",
    "        content_book['Area']=None\n",
    "    tematica=te\n",
    "    if tematica:\n",
    "        content_book['Tematica']=tematica\n",
    "    else :\n",
    "        content_book['Tematica']=None\n",
    "    #titulo del libro\n",
    "    try:\n",
    "        titulo=s_item.find('h3', class_='media-heading').find('a').get_text(strip=True)\n",
    "        content_book['Titulo Articulo']=titulo\n",
    "    except AttributeError:\n",
    "        content_book['Titulo Articulo']=None\n",
    "    try:\n",
    "        des=s_item.find('div', class_='panel-body').get_text(strip=True)\n",
    "        content_book['Resumen']=des\n",
    "    except AttributeError:\n",
    "        content_book['Resumen']=None\n",
    "    urlI=ul\n",
    "    if urlI:\n",
    "        content_book['Url Inicial']= urlI\n",
    "    else :\n",
    "        content_book['Url Inicial']=None\n",
    "        #obtener link PDF\n",
    "    try:\n",
    "        ancla_link=s_item.find('div', class_='btn-group').find('a').get('href')\n",
    "        content_book['Link Articulo']=urljoin(url_root,ancla_link)\n",
    "    except AttributeError:\n",
    "        content_book['Link Articulo']=None\n",
    "    return content_book"
   ]
  },
  {
   "cell_type": "code",
   "execution_count": null,
   "id": "5cbf4150-6d11-42e2-9772-29636371ba73",
   "metadata": {},
   "outputs": [],
   "source": [
    "list_scraper=list_scraper[0:1]\n",
    "datos_book=[]\n",
    "for idx, i in enumerate(list_scraper):\n",
    "    print(f'estas escrapeando la pag {idx}')\n",
    "    datos_book.append(scraper_book(i))"
   ]
  },
  {
   "cell_type": "code",
   "execution_count": null,
   "id": "ca4140ee-2435-48bd-8434-6a977e93f1e7",
   "metadata": {},
   "outputs": [],
   "source": [
    "df_catalogo=pd.DataFrame(datos_book)\n",
    "df_catalogo"
   ]
  },
  {
   "cell_type": "code",
   "execution_count": null,
   "id": "c8061691-c268-4e4c-abfa-384837bc8bbe",
   "metadata": {},
   "outputs": [],
   "source": [
    "df_catalogo.to_csv('Revist208.1.csv', index=False)"
   ]
  },
  {
   "cell_type": "code",
   "execution_count": null,
   "id": "2f090889-5925-4fbc-a8ea-162c0bc2fa7c",
   "metadata": {},
   "outputs": [],
   "source": []
  }
 ],
 "metadata": {
  "kernelspec": {
   "display_name": "Python 3 (ipykernel)",
   "language": "python",
   "name": "python3"
  },
  "language_info": {
   "codemirror_mode": {
    "name": "ipython",
    "version": 3
   },
   "file_extension": ".py",
   "mimetype": "text/x-python",
   "name": "python",
   "nbconvert_exporter": "python",
   "pygments_lexer": "ipython3",
   "version": "3.10.4"
  }
 },
 "nbformat": 4,
 "nbformat_minor": 5
}
