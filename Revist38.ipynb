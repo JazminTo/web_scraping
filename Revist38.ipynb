{
 "cells": [
  {
   "cell_type": "code",
   "execution_count": null,
   "id": "7cc0d999-c647-44aa-a80a-cf51192dc11e",
   "metadata": {},
   "outputs": [],
   "source": [
    "import requests\n",
    "import bs4\n",
    "from bs4 import BeautifulSoup\n",
    "from urllib.parse import urljoin\n",
    "import pandas as pd"
   ]
  },
  {
   "cell_type": "code",
   "execution_count": null,
   "id": "bfa2f2d3-e71f-48db-bafc-9cf712835581",
   "metadata": {},
   "outputs": [],
   "source": [
    "url_inicial='http://www.anmm.org.mx/GMM/'\n",
    "url_root= 'http://www.anmm.org.mx/GMM/'\n",
    "r = requests.get(url_inicial)"
   ]
  },
  {
   "cell_type": "code",
   "execution_count": null,
   "id": "ff3e1712-2b91-4611-9dcc-5a8d790a94bc",
   "metadata": {},
   "outputs": [],
   "source": [
    "soup = BeautifulSoup(r.text, 'html.parser')"
   ]
  },
  {
   "cell_type": "code",
   "execution_count": null,
   "id": "025a4ca5-7556-470a-8ef5-569c5ed45ee4",
   "metadata": {},
   "outputs": [],
   "source": [
    "b = soup.find('div', class_='panel-group')"
   ]
  },
  {
   "cell_type": "code",
   "execution_count": null,
   "id": "5ef8ff6f-e837-421f-8791-9a2a5b5e143b",
   "metadata": {},
   "outputs": [],
   "source": [
    "box = b.findAll('div', class_='panel-body')"
   ]
  },
  {
   "cell_type": "code",
   "execution_count": null,
   "id": "913ca11e-778a-49e8-b1fe-881d8ebea2fb",
   "metadata": {},
   "outputs": [],
   "source": [
    "vol = [x.find('a').get('href')for x in box]\n",
    "vol=[urljoin(url_root,i) for i in vol]\n",
    "vol"
   ]
  },
  {
   "cell_type": "code",
   "execution_count": null,
   "id": "e58f960f-9c01-45ec-9664-0e36b5c1978d",
   "metadata": {},
   "outputs": [],
   "source": [
    "def get_url_items(sopa, url): \n",
    "    b = soup.find('div', class_='panel-group')\n",
    "    box = b.findAll('div', class_='panel-body')\n",
    "    vol = [x.find('a').get('href')for x in box]\n",
    "    return vol"
   ]
  },
  {
   "cell_type": "code",
   "execution_count": null,
   "id": "98b31183-6446-47c8-a797-0ff447670061",
   "metadata": {},
   "outputs": [],
   "source": [
    "links_items=[]\n",
    "i=0\n",
    "while i<1:\n",
    "    i+=1\n",
    "    print(f'Estoy en la pagina {url_inicial}')\n",
    "    r_pag=requests.get(url_inicial)\n",
    "    s_p=BeautifulSoup(r_pag.text,'html.parser')\n",
    "    links=get_url_items(s_p, url_inicial)\n",
    "    links_items.append(links) \n",
    "    next_a=s_p.select('li.next > a')\n",
    "    if not next_a or not next_a[0].get('href'):\n",
    "        break\n",
    "    url_inicial = urljoin(url_inicial, next_a[0].get('href'))"
   ]
  },
  {
   "cell_type": "code",
   "execution_count": null,
   "id": "6c07809e-0bcc-427a-9b58-caf803679294",
   "metadata": {},
   "outputs": [],
   "source": [
    "  list_scraper=[]\n",
    "for i in links_items:\n",
    "    for j in i:\n",
    "        list_scraper.append(j)\n",
    "len(list_scraper)"
   ]
  },
  {
   "cell_type": "code",
   "execution_count": null,
   "id": "9c300aeb-bfd1-4360-b9f3-3807f2439d0d",
   "metadata": {},
   "outputs": [],
   "source": [
    "uno=list_scraper[0]\n",
    "r_item=requests.get(uno)\n",
    "s_item=BeautifulSoup(r_item.text, 'html.parser')"
   ]
  },
  {
   "cell_type": "code",
   "execution_count": null,
   "id": "8f834509-e3c7-41c5-8cfa-c2d27c1f1653",
   "metadata": {},
   "outputs": [],
   "source": [
    "def scraper_book(url):\n",
    "    content_book={}\n",
    "    r=requests.get(url)\n",
    "    tr='Gaceta Médica de México'\n",
    "    a='III. Medicina y Ciencias de la Salud'\n",
    "    te='Medicina'\n",
    "    s_item=BeautifulSoup(r.text,'html.parser')\n",
    "    try:\n",
    "        titulo=tr\n",
    "        content_book['Titulo Revista']=titulo\n",
    "    except AttributeError:\n",
    "        content_book['Titulo Revista']=None\n",
    "    try:\n",
    "        titulo=a\n",
    "        content_book['Area']=a\n",
    "    except AttributeError:\n",
    "        content_book['Area']=None\n",
    "    try:\n",
    "        titulo=te\n",
    "        content_book['Tematica']=te\n",
    "    except AttributeError:\n",
    "        content_book['Tematica']=None\n",
    "    #titulo del libro\n",
    "    try:\n",
    "        titulo=s_item.find('div', id='accordion').find('a', class_='seleccion').get_text(strip=True)\n",
    "        content_book['Titulo Articulo']=titulo\n",
    "    except AttributeError:\n",
    "        content_book['Titulo Articulo']=None\n",
    "    #obtener autor\n",
    "    try:\n",
    "        autor=s_item.find('div', class_='panel-body').get_text(strip=True)\n",
    "        content_book['Resumen']=autor\n",
    "    except AttributeError:\n",
    "        content_book['Resumen']=None\n",
    "        #obtener link PDF\n",
    "    try:\n",
    "        ancla_link=s_item.find('div', class_='panel-body').find('br').find('a').get('href')\n",
    "        content_book['Link Articulo']=ancla_link\n",
    "    except AttributeError:\n",
    "        content_book['Link Articulo']=None\n",
    "    return content_book"
   ]
  },
  {
   "cell_type": "code",
   "execution_count": null,
   "id": "761d6bc7-bf5d-4695-859a-0f87d9bc9818",
   "metadata": {},
   "outputs": [],
   "source": [
    " list_scraper=list_scraper[0:90]\n",
    "datos_book=[]\n",
    "for idx, i in enumerate(list_scraper):\n",
    "    print(f'estas escrapeando la pag {idx}')\n",
    "    datos_book.append(scraper_book(i))"
   ]
  },
  {
   "cell_type": "code",
   "execution_count": null,
   "id": "8db16316-2205-48a4-98ce-489677e29e65",
   "metadata": {},
   "outputs": [],
   "source": [
    "df_catalogo=pd.DataFrame(datos_book)\n",
    "df_catalogo"
   ]
  },
  {
   "cell_type": "code",
   "execution_count": null,
   "id": "9be76938-81f6-4983-87e2-8539e2545db6",
   "metadata": {},
   "outputs": [],
   "source": [
    "df_catalogo.to_csv('Revist38.csv', index=False)"
   ]
  }
 ],
 "metadata": {
  "kernelspec": {
   "display_name": "Python 3 (ipykernel)",
   "language": "python",
   "name": "python3"
  },
  "language_info": {
   "codemirror_mode": {
    "name": "ipython",
    "version": 3
   },
   "file_extension": ".py",
   "mimetype": "text/x-python",
   "name": "python",
   "nbconvert_exporter": "python",
   "pygments_lexer": "ipython3",
   "version": "3.10.4"
  }
 },
 "nbformat": 4,
 "nbformat_minor": 5
}
